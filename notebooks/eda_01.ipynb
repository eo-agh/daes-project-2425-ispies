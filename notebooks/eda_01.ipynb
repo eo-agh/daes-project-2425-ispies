{
 "cells": [
  {
   "cell_type": "code",
   "execution_count": null,
   "id": "c913267c",
   "metadata": {},
   "outputs": [],
   "source": [
    "# CONFIG CELL\n",
    "from notebook_utils import set_root_directory\n",
    "\n",
    "set_root_directory()"
   ]
  },
  {
   "cell_type": "code",
   "execution_count": null,
   "id": "a2cb4e4d",
   "metadata": {},
   "outputs": [],
   "source": [
    "# IMPORTS\n",
    "from app.hello_world import hello_world"
   ]
  },
  {
   "cell_type": "code",
   "execution_count": null,
   "id": "3249c3ce",
   "metadata": {},
   "outputs": [],
   "source": [
    "print(hello_world())"
   ]
  }
 ],
 "metadata": {
  "kernelspec": {
   "display_name": "Python 3",
   "language": "python",
   "name": "python3"
  },
  "language_info": {
   "codemirror_mode": {
    "name": "ipython",
    "version": 3
   },
   "file_extension": ".py",
   "mimetype": "text/x-python",
   "name": "python",
   "nbconvert_exporter": "python",
   "pygments_lexer": "ipython3",
   "version": "3.11.11"
  }
 },
 "nbformat": 4,
 "nbformat_minor": 5
}
