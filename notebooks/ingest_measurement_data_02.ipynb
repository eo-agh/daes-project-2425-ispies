{
 "cells": [
  {
   "cell_type": "code",
   "execution_count": 1,
   "id": "65a52064",
   "metadata": {},
   "outputs": [],
   "source": [
    "# CONFIG CELL\n",
    "import logging\n",
    "\n",
    "from notebook_utils import set_root_directory\n",
    "\n",
    "set_root_directory()\n",
    "logging.getLogger().setLevel(logging.INFO)"
   ]
  },
  {
   "cell_type": "code",
   "execution_count": 2,
   "id": "8fadaf86",
   "metadata": {},
   "outputs": [],
   "source": [
    "# IMPORTS\n",
    "import pandas as pd\n",
    "\n",
    "from app.measurement_ingestor import MeasurementIngestor"
   ]
  },
  {
   "cell_type": "code",
   "execution_count": null,
   "id": "e6ae2953",
   "metadata": {},
   "outputs": [],
   "source": [
    "# CONSTANTS\n",
    "# Recommend to use the data after 2005, as 2005 C6H6 is inorrect\n",
    "INPUT_DIR = \"data/pomiary\"\n",
    "SENSOR_METADATA = \"input_files/sensor_metadata.parquet\"\n",
    "\n",
    "TIME_1H_RESULT = \"input_files/measurements_1h.parquet\"\n",
    "TIME_24H_RESULT = \"input_files/measurements_24h.parquet\"\n",
    "\n",
    "TARGET_VARIABLES = [\"C6H6\", \"CO\", \"NO\", \"NO2\", \"NOx\", \"O3\", \"PM2.5\", \"PM10\", \"SO2\"]"
   ]
  },
  {
   "cell_type": "code",
   "execution_count": null,
   "id": "43206188",
   "metadata": {},
   "outputs": [],
   "source": [
    "# TODO: Fix ingestion - read variable and measure time from filename\n",
    "# TODO: Find the way to parse the station_names, when column is not KOD_STACJI\n",
    "# TODO: 2016-2017 - numbers as strings in the excel files"
   ]
  },
  {
   "cell_type": "code",
   "execution_count": 3,
   "id": "25c6d4a6",
   "metadata": {},
   "outputs": [
    {
     "name": "stderr",
     "output_type": "stream",
     "text": [
      "WARNING:root:Sensor name PkRzeszWIOSLang not found. Skipping.\n",
      "WARNING:root:Sensor name PkRzeszWIOSLang not found. Skipping.\n",
      "WARNING:root:Sensor name DsBolRynek not found. Skipping.\n",
      "WARNING:root:Sensor name LbKra not found. Skipping.\n",
      "WARNING:root:Sensor name PkRzeszWIOSLang not found. Skipping.\n",
      "WARNING:root:Sensor name PkRzeszWIOSLang not found. Skipping.\n",
      "WARNING:root:Sensor name PkRzeszWIOSLang not found. Skipping.\n",
      "WARNING:root:Sensor name LbKra not found. Skipping.\n",
      "WARNING:root:Invalid measurement metadata in file data/pomiary\\2005\\2005_C6H6_24g.xlsx. Skipping.\n",
      "WARNING:root:Sensor name LbKra not found. Skipping.\n",
      "WARNING:root:Sensor name LbKra not found. Skipping.\n",
      "WARNING:root:Sensor name LbKra not found. Skipping.\n",
      "WARNING:root:Sensor name LbKra not found. Skipping.\n",
      "WARNING:root:Sensor name LbKra not found. Skipping.\n",
      "WARNING:root:Sensor name KpPASBTXBydgKujawskie not found. Skipping.\n",
      "WARNING:root:Sensor name KpPASBTXBydgLPKiW not found. Skipping.\n",
      "WARNING:root:Sensor name KpPASBTXBydgTorunskie not found. Skipping.\n",
      "WARNING:root:Sensor name KpPASBTXBydgZachem not found. Skipping.\n",
      "WARNING:root:Sensor name KpPASTorunWalyGenSik not found. Skipping.\n",
      "WARNING:root:Sensor name KpBrodnicaZwirkiW not found. Skipping.\n",
      "WARNING:root:Sensor name KpBrodnicaZwirkiW not found. Skipping.\n",
      "WARNING:root:Sensor name KpBrodnicaZwirkiW not found. Skipping.\n",
      "WARNING:root:Invalid measurement metadata in file data/pomiary\\2012\\2012_O3_1g.xlsx. Skipping.\n",
      "WARNING:root:Invalid measurement metadata in file data/pomiary\\2012\\2012_PM10_1g.xlsx. Skipping.\n",
      "WARNING:root:Invalid measurement metadata in file data/pomiary\\2012\\2012_PM2.5_24g.xlsx. Skipping.\n",
      "WARNING:root:Sensor name LbZaoscHrubieszowsk not found. Skipping.\n",
      "WARNING:root:Invalid measurement metadata in file data/pomiary\\2013\\2013_NOx_1g.xlsx. Skipping.\n",
      "c:\\Users\\Mambo\\.conda\\envs\\ispies\\Lib\\site-packages\\openpyxl\\worksheet\\header_footer.py:48: UserWarning: Cannot parse header or footer so it will be ignored\n",
      "  warn(\"\"\"Cannot parse header or footer so it will be ignored\"\"\")\n",
      "c:\\Users\\Mambo\\.conda\\envs\\ispies\\Lib\\site-packages\\openpyxl\\worksheet\\header_footer.py:48: UserWarning: Cannot parse header or footer so it will be ignored\n",
      "  warn(\"\"\"Cannot parse header or footer so it will be ignored\"\"\")\n",
      "WARNING:root:Sensor name nan not found. Skipping.\n",
      "WARNING:root:Sensor name nan not found. Skipping.\n",
      "WARNING:root:Sensor name nan not found. Skipping.\n",
      "c:\\Users\\Mambo\\.conda\\envs\\ispies\\Lib\\site-packages\\openpyxl\\worksheet\\header_footer.py:48: UserWarning: Cannot parse header or footer so it will be ignored\n",
      "  warn(\"\"\"Cannot parse header or footer so it will be ignored\"\"\")\n",
      "c:\\Users\\Mambo\\.conda\\envs\\ispies\\Lib\\site-packages\\openpyxl\\worksheet\\header_footer.py:48: UserWarning: Cannot parse header or footer so it will be ignored\n",
      "  warn(\"\"\"Cannot parse header or footer so it will be ignored\"\"\")\n",
      "c:\\Users\\Mambo\\.conda\\envs\\ispies\\Lib\\site-packages\\openpyxl\\worksheet\\header_footer.py:48: UserWarning: Cannot parse header or footer so it will be ignored\n",
      "  warn(\"\"\"Cannot parse header or footer so it will be ignored\"\"\")\n",
      "c:\\Users\\Mambo\\.conda\\envs\\ispies\\Lib\\site-packages\\openpyxl\\worksheet\\header_footer.py:48: UserWarning: Cannot parse header or footer so it will be ignored\n",
      "  warn(\"\"\"Cannot parse header or footer so it will be ignored\"\"\")\n",
      "c:\\Users\\Mambo\\.conda\\envs\\ispies\\Lib\\site-packages\\openpyxl\\worksheet\\header_footer.py:48: UserWarning: Cannot parse header or footer so it will be ignored\n",
      "  warn(\"\"\"Cannot parse header or footer so it will be ignored\"\"\")\n",
      "c:\\Users\\Mambo\\.conda\\envs\\ispies\\Lib\\site-packages\\openpyxl\\worksheet\\header_footer.py:48: UserWarning: Cannot parse header or footer so it will be ignored\n",
      "  warn(\"\"\"Cannot parse header or footer so it will be ignored\"\"\")\n",
      "INFO:root:File data/pomiary\\2015\\2015_depozycja.xlsx is excluded from the processing. Check parameter exclude_depozycja=True.\n",
      "WARNING:root:Invalid measurement metadata in file data/pomiary\\2016\\2016_As(PM10)_24g.xlsx. Skipping.\n",
      "WARNING:root:Invalid measurement metadata in file data/pomiary\\2016\\2016_BaA(PM10)_24g.xlsx. Skipping.\n",
      "WARNING:root:Invalid measurement metadata in file data/pomiary\\2016\\2016_BaP(PM10)_24g.xlsx. Skipping.\n",
      "WARNING:root:Invalid measurement metadata in file data/pomiary\\2016\\2016_BbF(PM10)_24g.xlsx. Skipping.\n",
      "WARNING:root:Invalid measurement metadata in file data/pomiary\\2016\\2016_BjF(PM10)_24g.xlsx. Skipping.\n",
      "WARNING:root:Invalid measurement metadata in file data/pomiary\\2016\\2016_BkF(PM10)_24g.xlsx. Skipping.\n",
      "WARNING:root:Invalid measurement metadata in file data/pomiary\\2016\\2016_C6H6_1g.xlsx. Skipping.\n",
      "WARNING:root:Invalid measurement metadata in file data/pomiary\\2016\\2016_C6H6_24g.xlsx. Skipping.\n",
      "WARNING:root:Invalid measurement metadata in file data/pomiary\\2016\\2016_Cd(PM10)_24g.xlsx. Skipping.\n",
      "WARNING:root:Invalid measurement metadata in file data/pomiary\\2016\\2016_CO_1g.xlsx. Skipping.\n",
      "WARNING:root:Invalid measurement metadata in file data/pomiary\\2016\\2016_DBahA(PM10)_24g.xlsx. Skipping.\n",
      "INFO:root:File data/pomiary\\2016\\2016_Depozycja.xlsx is excluded from the processing. Check parameter exclude_depozycja=True.\n",
      "WARNING:root:Invalid measurement metadata in file data/pomiary\\2016\\2016_formaldehyd_24g.xlsx. Skipping.\n",
      "WARNING:root:Invalid measurement metadata in file data/pomiary\\2016\\2016_Hg(TGM)_1g.xlsx. Skipping.\n",
      "WARNING:root:Invalid measurement metadata in file data/pomiary\\2016\\2016_Hg(TGM)_24g.xlsx. Skipping.\n",
      "WARNING:root:Invalid measurement metadata in file data/pomiary\\2016\\2016_IP(PM10)_24g.xlsx. Skipping.\n",
      "WARNING:root:Invalid measurement metadata in file data/pomiary\\2016\\2016_Jony_PM2_5_24g.xlsx. Skipping.\n",
      "WARNING:root:Invalid measurement metadata in file data/pomiary\\2016\\2016_Ni(PM10)_24g.xlsx. Skipping.\n",
      "WARNING:root:Invalid measurement metadata in file data/pomiary\\2016\\2016_NO2_1g.xlsx. Skipping.\n",
      "WARNING:root:Invalid measurement metadata in file data/pomiary\\2016\\2016_NO2_24g.xlsx. Skipping.\n",
      "WARNING:root:Invalid measurement metadata in file data/pomiary\\2016\\2016_NOx_1g.xlsx. Skipping.\n",
      "WARNING:root:Invalid measurement metadata in file data/pomiary\\2016\\2016_O3_1g.xlsx. Skipping.\n",
      "WARNING:root:Invalid measurement metadata in file data/pomiary\\2016\\2016_Pb(PM10)_24g.xlsx. Skipping.\n",
      "WARNING:root:Invalid measurement metadata in file data/pomiary\\2016\\2016_PM10_1g.xlsx. Skipping.\n",
      "WARNING:root:Invalid measurement metadata in file data/pomiary\\2016\\2016_PM10_24g.xlsx. Skipping.\n",
      "WARNING:root:Invalid measurement metadata in file data/pomiary\\2016\\2016_PM2.5_1g.xlsx. Skipping.\n",
      "WARNING:root:Invalid measurement metadata in file data/pomiary\\2016\\2016_PM2.5_24g.xlsx. Skipping.\n",
      "WARNING:root:Invalid measurement metadata in file data/pomiary\\2016\\2016_SO2_1g.xlsx. Skipping.\n",
      "WARNING:root:Invalid measurement metadata in file data/pomiary\\2016\\2016_SO2_24g.xlsx. Skipping.\n"
     ]
    },
    {
     "ename": "ValueError",
     "evalue": "could not convert string to float: '8,15969'",
     "output_type": "error",
     "traceback": [
      "\u001b[31m---------------------------------------------------------------------------\u001b[39m",
      "\u001b[31mValueError\u001b[39m                                Traceback (most recent call last)",
      "\u001b[36mCell\u001b[39m\u001b[36m \u001b[39m\u001b[32mIn[3]\u001b[39m\u001b[32m, line 17\u001b[39m\n\u001b[32m      9\u001b[39m sensor_metada = pd.read_parquet(SENSOR_METADATA)\n\u001b[32m     11\u001b[39m ingestor = MeasurementIngestor(\n\u001b[32m     12\u001b[39m     input_dir=INPUT_DIR, \n\u001b[32m     13\u001b[39m     sensor_metadata=sensor_metada, \n\u001b[32m     14\u001b[39m     exclude_depoyzcja=\u001b[38;5;28;01mTrue\u001b[39;00m,\n\u001b[32m     15\u001b[39m     target_variables=TARGET_VARIABLES,\n\u001b[32m     16\u001b[39m )\n\u001b[32m---> \u001b[39m\u001b[32m17\u001b[39m time_1h_df, time_24h_df = \u001b[43mingestor\u001b[49m\u001b[43m.\u001b[49m\u001b[43mtransform\u001b[49m\u001b[43m(\u001b[49m\u001b[43m)\u001b[49m\n",
      "\u001b[36mFile \u001b[39m\u001b[32mc:\\Users\\Mambo\\Desktop\\moje_AGH\\staszel\\daes-project-2425-ispies\\app\\measurement_ingestor.py:184\u001b[39m, in \u001b[36mMeasurementIngestor.transform\u001b[39m\u001b[34m(self)\u001b[39m\n\u001b[32m    176\u001b[39m melted_single_measure_df[TIMESTAMP_COLUMN] = pd.to_datetime(\n\u001b[32m    177\u001b[39m     melted_single_measure_df[TIMESTAMP_COLUMN], \u001b[38;5;28mformat\u001b[39m=DATE_FORMAT\n\u001b[32m    178\u001b[39m )\n\u001b[32m    179\u001b[39m melted_single_measure_df[UNIQUE_ID] = melted_single_measure_df[\n\u001b[32m    180\u001b[39m     UNIQUE_ID\n\u001b[32m    181\u001b[39m ].astype(\u001b[38;5;28mint\u001b[39m)\n\u001b[32m    182\u001b[39m melted_single_measure_df[variable] = \u001b[43mmelted_single_measure_df\u001b[49m\u001b[43m[\u001b[49m\n\u001b[32m    183\u001b[39m \u001b[43m    \u001b[49m\u001b[43mvariable\u001b[49m\n\u001b[32m--> \u001b[39m\u001b[32m184\u001b[39m \u001b[43m\u001b[49m\u001b[43m]\u001b[49m\u001b[43m.\u001b[49m\u001b[43mastype\u001b[49m\u001b[43m(\u001b[49m\u001b[38;5;28;43mfloat\u001b[39;49m\u001b[43m)\u001b[49m\n\u001b[32m    186\u001b[39m \u001b[38;5;66;03m# Assign the measure to the correct list\u001b[39;00m\n\u001b[32m    187\u001b[39m \u001b[38;5;66;03m# It cannot happen here that the measure time is not 1h or 24h\u001b[39;00m\n\u001b[32m    188\u001b[39m \u001b[38;5;28;01mif\u001b[39;00m measure_time == TIME_1H:\n",
      "\u001b[36mFile \u001b[39m\u001b[32mc:\\Users\\Mambo\\.conda\\envs\\ispies\\Lib\\site-packages\\pandas\\core\\generic.py:6643\u001b[39m, in \u001b[36mNDFrame.astype\u001b[39m\u001b[34m(self, dtype, copy, errors)\u001b[39m\n\u001b[32m   6637\u001b[39m     results = [\n\u001b[32m   6638\u001b[39m         ser.astype(dtype, copy=copy, errors=errors) \u001b[38;5;28;01mfor\u001b[39;00m _, ser \u001b[38;5;129;01min\u001b[39;00m \u001b[38;5;28mself\u001b[39m.items()\n\u001b[32m   6639\u001b[39m     ]\n\u001b[32m   6641\u001b[39m \u001b[38;5;28;01melse\u001b[39;00m:\n\u001b[32m   6642\u001b[39m     \u001b[38;5;66;03m# else, only a single dtype is given\u001b[39;00m\n\u001b[32m-> \u001b[39m\u001b[32m6643\u001b[39m     new_data = \u001b[38;5;28;43mself\u001b[39;49m\u001b[43m.\u001b[49m\u001b[43m_mgr\u001b[49m\u001b[43m.\u001b[49m\u001b[43mastype\u001b[49m\u001b[43m(\u001b[49m\u001b[43mdtype\u001b[49m\u001b[43m=\u001b[49m\u001b[43mdtype\u001b[49m\u001b[43m,\u001b[49m\u001b[43m \u001b[49m\u001b[43mcopy\u001b[49m\u001b[43m=\u001b[49m\u001b[43mcopy\u001b[49m\u001b[43m,\u001b[49m\u001b[43m \u001b[49m\u001b[43merrors\u001b[49m\u001b[43m=\u001b[49m\u001b[43merrors\u001b[49m\u001b[43m)\u001b[49m\n\u001b[32m   6644\u001b[39m     res = \u001b[38;5;28mself\u001b[39m._constructor_from_mgr(new_data, axes=new_data.axes)\n\u001b[32m   6645\u001b[39m     \u001b[38;5;28;01mreturn\u001b[39;00m res.__finalize__(\u001b[38;5;28mself\u001b[39m, method=\u001b[33m\"\u001b[39m\u001b[33mastype\u001b[39m\u001b[33m\"\u001b[39m)\n",
      "\u001b[36mFile \u001b[39m\u001b[32mc:\\Users\\Mambo\\.conda\\envs\\ispies\\Lib\\site-packages\\pandas\\core\\internals\\managers.py:430\u001b[39m, in \u001b[36mBaseBlockManager.astype\u001b[39m\u001b[34m(self, dtype, copy, errors)\u001b[39m\n\u001b[32m    427\u001b[39m \u001b[38;5;28;01melif\u001b[39;00m using_copy_on_write():\n\u001b[32m    428\u001b[39m     copy = \u001b[38;5;28;01mFalse\u001b[39;00m\n\u001b[32m--> \u001b[39m\u001b[32m430\u001b[39m \u001b[38;5;28;01mreturn\u001b[39;00m \u001b[38;5;28;43mself\u001b[39;49m\u001b[43m.\u001b[49m\u001b[43mapply\u001b[49m\u001b[43m(\u001b[49m\n\u001b[32m    431\u001b[39m \u001b[43m    \u001b[49m\u001b[33;43m\"\u001b[39;49m\u001b[33;43mastype\u001b[39;49m\u001b[33;43m\"\u001b[39;49m\u001b[43m,\u001b[49m\n\u001b[32m    432\u001b[39m \u001b[43m    \u001b[49m\u001b[43mdtype\u001b[49m\u001b[43m=\u001b[49m\u001b[43mdtype\u001b[49m\u001b[43m,\u001b[49m\n\u001b[32m    433\u001b[39m \u001b[43m    \u001b[49m\u001b[43mcopy\u001b[49m\u001b[43m=\u001b[49m\u001b[43mcopy\u001b[49m\u001b[43m,\u001b[49m\n\u001b[32m    434\u001b[39m \u001b[43m    \u001b[49m\u001b[43merrors\u001b[49m\u001b[43m=\u001b[49m\u001b[43merrors\u001b[49m\u001b[43m,\u001b[49m\n\u001b[32m    435\u001b[39m \u001b[43m    \u001b[49m\u001b[43musing_cow\u001b[49m\u001b[43m=\u001b[49m\u001b[43musing_copy_on_write\u001b[49m\u001b[43m(\u001b[49m\u001b[43m)\u001b[49m\u001b[43m,\u001b[49m\n\u001b[32m    436\u001b[39m \u001b[43m\u001b[49m\u001b[43m)\u001b[49m\n",
      "\u001b[36mFile \u001b[39m\u001b[32mc:\\Users\\Mambo\\.conda\\envs\\ispies\\Lib\\site-packages\\pandas\\core\\internals\\managers.py:363\u001b[39m, in \u001b[36mBaseBlockManager.apply\u001b[39m\u001b[34m(self, f, align_keys, **kwargs)\u001b[39m\n\u001b[32m    361\u001b[39m         applied = b.apply(f, **kwargs)\n\u001b[32m    362\u001b[39m     \u001b[38;5;28;01melse\u001b[39;00m:\n\u001b[32m--> \u001b[39m\u001b[32m363\u001b[39m         applied = \u001b[38;5;28;43mgetattr\u001b[39;49m\u001b[43m(\u001b[49m\u001b[43mb\u001b[49m\u001b[43m,\u001b[49m\u001b[43m \u001b[49m\u001b[43mf\u001b[49m\u001b[43m)\u001b[49m\u001b[43m(\u001b[49m\u001b[43m*\u001b[49m\u001b[43m*\u001b[49m\u001b[43mkwargs\u001b[49m\u001b[43m)\u001b[49m\n\u001b[32m    364\u001b[39m     result_blocks = extend_blocks(applied, result_blocks)\n\u001b[32m    366\u001b[39m out = \u001b[38;5;28mtype\u001b[39m(\u001b[38;5;28mself\u001b[39m).from_blocks(result_blocks, \u001b[38;5;28mself\u001b[39m.axes)\n",
      "\u001b[36mFile \u001b[39m\u001b[32mc:\\Users\\Mambo\\.conda\\envs\\ispies\\Lib\\site-packages\\pandas\\core\\internals\\blocks.py:758\u001b[39m, in \u001b[36mBlock.astype\u001b[39m\u001b[34m(self, dtype, copy, errors, using_cow, squeeze)\u001b[39m\n\u001b[32m    755\u001b[39m         \u001b[38;5;28;01mraise\u001b[39;00m \u001b[38;5;167;01mValueError\u001b[39;00m(\u001b[33m\"\u001b[39m\u001b[33mCan not squeeze with more than one column.\u001b[39m\u001b[33m\"\u001b[39m)\n\u001b[32m    756\u001b[39m     values = values[\u001b[32m0\u001b[39m, :]  \u001b[38;5;66;03m# type: ignore[call-overload]\u001b[39;00m\n\u001b[32m--> \u001b[39m\u001b[32m758\u001b[39m new_values = \u001b[43mastype_array_safe\u001b[49m\u001b[43m(\u001b[49m\u001b[43mvalues\u001b[49m\u001b[43m,\u001b[49m\u001b[43m \u001b[49m\u001b[43mdtype\u001b[49m\u001b[43m,\u001b[49m\u001b[43m \u001b[49m\u001b[43mcopy\u001b[49m\u001b[43m=\u001b[49m\u001b[43mcopy\u001b[49m\u001b[43m,\u001b[49m\u001b[43m \u001b[49m\u001b[43merrors\u001b[49m\u001b[43m=\u001b[49m\u001b[43merrors\u001b[49m\u001b[43m)\u001b[49m\n\u001b[32m    760\u001b[39m new_values = maybe_coerce_values(new_values)\n\u001b[32m    762\u001b[39m refs = \u001b[38;5;28;01mNone\u001b[39;00m\n",
      "\u001b[36mFile \u001b[39m\u001b[32mc:\\Users\\Mambo\\.conda\\envs\\ispies\\Lib\\site-packages\\pandas\\core\\dtypes\\astype.py:237\u001b[39m, in \u001b[36mastype_array_safe\u001b[39m\u001b[34m(values, dtype, copy, errors)\u001b[39m\n\u001b[32m    234\u001b[39m     dtype = dtype.numpy_dtype\n\u001b[32m    236\u001b[39m \u001b[38;5;28;01mtry\u001b[39;00m:\n\u001b[32m--> \u001b[39m\u001b[32m237\u001b[39m     new_values = \u001b[43mastype_array\u001b[49m\u001b[43m(\u001b[49m\u001b[43mvalues\u001b[49m\u001b[43m,\u001b[49m\u001b[43m \u001b[49m\u001b[43mdtype\u001b[49m\u001b[43m,\u001b[49m\u001b[43m \u001b[49m\u001b[43mcopy\u001b[49m\u001b[43m=\u001b[49m\u001b[43mcopy\u001b[49m\u001b[43m)\u001b[49m\n\u001b[32m    238\u001b[39m \u001b[38;5;28;01mexcept\u001b[39;00m (\u001b[38;5;167;01mValueError\u001b[39;00m, \u001b[38;5;167;01mTypeError\u001b[39;00m):\n\u001b[32m    239\u001b[39m     \u001b[38;5;66;03m# e.g. _astype_nansafe can fail on object-dtype of strings\u001b[39;00m\n\u001b[32m    240\u001b[39m     \u001b[38;5;66;03m#  trying to convert to float\u001b[39;00m\n\u001b[32m    241\u001b[39m     \u001b[38;5;28;01mif\u001b[39;00m errors == \u001b[33m\"\u001b[39m\u001b[33mignore\u001b[39m\u001b[33m\"\u001b[39m:\n",
      "\u001b[36mFile \u001b[39m\u001b[32mc:\\Users\\Mambo\\.conda\\envs\\ispies\\Lib\\site-packages\\pandas\\core\\dtypes\\astype.py:182\u001b[39m, in \u001b[36mastype_array\u001b[39m\u001b[34m(values, dtype, copy)\u001b[39m\n\u001b[32m    179\u001b[39m     values = values.astype(dtype, copy=copy)\n\u001b[32m    181\u001b[39m \u001b[38;5;28;01melse\u001b[39;00m:\n\u001b[32m--> \u001b[39m\u001b[32m182\u001b[39m     values = \u001b[43m_astype_nansafe\u001b[49m\u001b[43m(\u001b[49m\u001b[43mvalues\u001b[49m\u001b[43m,\u001b[49m\u001b[43m \u001b[49m\u001b[43mdtype\u001b[49m\u001b[43m,\u001b[49m\u001b[43m \u001b[49m\u001b[43mcopy\u001b[49m\u001b[43m=\u001b[49m\u001b[43mcopy\u001b[49m\u001b[43m)\u001b[49m\n\u001b[32m    184\u001b[39m \u001b[38;5;66;03m# in pandas we don't store numpy str dtypes, so convert to object\u001b[39;00m\n\u001b[32m    185\u001b[39m \u001b[38;5;28;01mif\u001b[39;00m \u001b[38;5;28misinstance\u001b[39m(dtype, np.dtype) \u001b[38;5;129;01mand\u001b[39;00m \u001b[38;5;28missubclass\u001b[39m(values.dtype.type, \u001b[38;5;28mstr\u001b[39m):\n",
      "\u001b[36mFile \u001b[39m\u001b[32mc:\\Users\\Mambo\\.conda\\envs\\ispies\\Lib\\site-packages\\pandas\\core\\dtypes\\astype.py:133\u001b[39m, in \u001b[36m_astype_nansafe\u001b[39m\u001b[34m(arr, dtype, copy, skipna)\u001b[39m\n\u001b[32m    129\u001b[39m     \u001b[38;5;28;01mraise\u001b[39;00m \u001b[38;5;167;01mValueError\u001b[39;00m(msg)\n\u001b[32m    131\u001b[39m \u001b[38;5;28;01mif\u001b[39;00m copy \u001b[38;5;129;01mor\u001b[39;00m arr.dtype == \u001b[38;5;28mobject\u001b[39m \u001b[38;5;129;01mor\u001b[39;00m dtype == \u001b[38;5;28mobject\u001b[39m:\n\u001b[32m    132\u001b[39m     \u001b[38;5;66;03m# Explicit copy, or required since NumPy can't view from / to object.\u001b[39;00m\n\u001b[32m--> \u001b[39m\u001b[32m133\u001b[39m     \u001b[38;5;28;01mreturn\u001b[39;00m \u001b[43marr\u001b[49m\u001b[43m.\u001b[49m\u001b[43mastype\u001b[49m\u001b[43m(\u001b[49m\u001b[43mdtype\u001b[49m\u001b[43m,\u001b[49m\u001b[43m \u001b[49m\u001b[43mcopy\u001b[49m\u001b[43m=\u001b[49m\u001b[38;5;28;43;01mTrue\u001b[39;49;00m\u001b[43m)\u001b[49m\n\u001b[32m    135\u001b[39m \u001b[38;5;28;01mreturn\u001b[39;00m arr.astype(dtype, copy=copy)\n",
      "\u001b[31mValueError\u001b[39m: could not convert string to float: '8,15969'"
     ]
    }
   ],
   "source": [
    "# CODE\n",
    "sensor_metada = pd.read_parquet(SENSOR_METADATA)\n",
    "\n",
    "ingestor = MeasurementIngestor(\n",
    "    input_dir=INPUT_DIR, \n",
    "    sensor_metadata=sensor_metada, \n",
    "    exclude_depoyzcja=True,\n",
    "    target_variables=TARGET_VARIABLES,\n",
    ")\n",
    "time_1h_df, time_24h_df = ingestor.transform()"
   ]
  },
  {
   "cell_type": "code",
   "execution_count": null,
   "id": "622975ef",
   "metadata": {},
   "outputs": [],
   "source": [
    "time_1h_df.to_parquet(TIME_1H_RESULT, index=False)\n",
    "time_24h_df.to_parquet(TIME_24H_RESULT, index=False)"
   ]
  },
  {
   "cell_type": "code",
   "execution_count": null,
   "id": "0d37ca2e",
   "metadata": {},
   "outputs": [
    {
     "data": {
      "text/plain": [
       "(2725560, 9)"
      ]
     },
     "execution_count": 4,
     "metadata": {},
     "output_type": "execute_result"
    }
   ],
   "source": [
    "time_1h_df.shape"
   ]
  },
  {
   "cell_type": "code",
   "execution_count": null,
   "id": "0cffcfc1",
   "metadata": {},
   "outputs": [
    {
     "data": {
      "text/html": [
       "<div>\n",
       "<style scoped>\n",
       "    .dataframe tbody tr th:only-of-type {\n",
       "        vertical-align: middle;\n",
       "    }\n",
       "\n",
       "    .dataframe tbody tr th {\n",
       "        vertical-align: top;\n",
       "    }\n",
       "\n",
       "    .dataframe thead th {\n",
       "        text-align: right;\n",
       "    }\n",
       "</style>\n",
       "<table border=\"1\" class=\"dataframe\">\n",
       "  <thead>\n",
       "    <tr style=\"text-align: right;\">\n",
       "      <th></th>\n",
       "      <th>ds</th>\n",
       "      <th>unique_id</th>\n",
       "      <th>NO2</th>\n",
       "      <th>NOx</th>\n",
       "      <th>O3</th>\n",
       "      <th>C6H6</th>\n",
       "      <th>PM10</th>\n",
       "      <th>PM2.5</th>\n",
       "      <th>SO2</th>\n",
       "    </tr>\n",
       "  </thead>\n",
       "  <tbody>\n",
       "    <tr>\n",
       "      <th>0</th>\n",
       "      <td>2000-01-01 01:00:00</td>\n",
       "      <td>10</td>\n",
       "      <td>NaN</td>\n",
       "      <td>NaN</td>\n",
       "      <td>NaN</td>\n",
       "      <td>NaN</td>\n",
       "      <td>NaN</td>\n",
       "      <td>NaN</td>\n",
       "      <td>NaN</td>\n",
       "    </tr>\n",
       "    <tr>\n",
       "      <th>1</th>\n",
       "      <td>2000-01-01 02:00:00</td>\n",
       "      <td>10</td>\n",
       "      <td>6.0</td>\n",
       "      <td>7.0</td>\n",
       "      <td>35.0</td>\n",
       "      <td>NaN</td>\n",
       "      <td>NaN</td>\n",
       "      <td>NaN</td>\n",
       "      <td>NaN</td>\n",
       "    </tr>\n",
       "    <tr>\n",
       "      <th>2</th>\n",
       "      <td>2000-01-01 03:00:00</td>\n",
       "      <td>10</td>\n",
       "      <td>3.0</td>\n",
       "      <td>3.0</td>\n",
       "      <td>42.0</td>\n",
       "      <td>NaN</td>\n",
       "      <td>NaN</td>\n",
       "      <td>NaN</td>\n",
       "      <td>NaN</td>\n",
       "    </tr>\n",
       "    <tr>\n",
       "      <th>3</th>\n",
       "      <td>2000-01-01 04:00:00</td>\n",
       "      <td>10</td>\n",
       "      <td>4.0</td>\n",
       "      <td>4.0</td>\n",
       "      <td>39.0</td>\n",
       "      <td>NaN</td>\n",
       "      <td>NaN</td>\n",
       "      <td>NaN</td>\n",
       "      <td>NaN</td>\n",
       "    </tr>\n",
       "    <tr>\n",
       "      <th>4</th>\n",
       "      <td>2000-01-01 05:00:00</td>\n",
       "      <td>10</td>\n",
       "      <td>3.0</td>\n",
       "      <td>3.0</td>\n",
       "      <td>44.0</td>\n",
       "      <td>NaN</td>\n",
       "      <td>NaN</td>\n",
       "      <td>NaN</td>\n",
       "      <td>NaN</td>\n",
       "    </tr>\n",
       "  </tbody>\n",
       "</table>\n",
       "</div>"
      ],
      "text/plain": [
       "                   ds  unique_id  NO2  NOx    O3  C6H6  PM10  PM2.5  SO2\n",
       "0 2000-01-01 01:00:00         10  NaN  NaN   NaN   NaN   NaN    NaN  NaN\n",
       "1 2000-01-01 02:00:00         10  6.0  7.0  35.0   NaN   NaN    NaN  NaN\n",
       "2 2000-01-01 03:00:00         10  3.0  3.0  42.0   NaN   NaN    NaN  NaN\n",
       "3 2000-01-01 04:00:00         10  4.0  4.0  39.0   NaN   NaN    NaN  NaN\n",
       "4 2000-01-01 05:00:00         10  3.0  3.0  44.0   NaN   NaN    NaN  NaN"
      ]
     },
     "execution_count": 5,
     "metadata": {},
     "output_type": "execute_result"
    }
   ],
   "source": [
    "time_1h_df.head()"
   ]
  },
  {
   "cell_type": "code",
   "execution_count": null,
   "id": "c0175880",
   "metadata": {},
   "outputs": [
    {
     "data": {
      "text/plain": [
       "(151148, 7)"
      ]
     },
     "execution_count": 6,
     "metadata": {},
     "output_type": "execute_result"
    }
   ],
   "source": [
    "time_24h_df.shape"
   ]
  },
  {
   "cell_type": "code",
   "execution_count": null,
   "id": "3fee1dcf",
   "metadata": {},
   "outputs": [
    {
     "data": {
      "text/html": [
       "<div>\n",
       "<style scoped>\n",
       "    .dataframe tbody tr th:only-of-type {\n",
       "        vertical-align: middle;\n",
       "    }\n",
       "\n",
       "    .dataframe tbody tr th {\n",
       "        vertical-align: top;\n",
       "    }\n",
       "\n",
       "    .dataframe thead th {\n",
       "        text-align: right;\n",
       "    }\n",
       "</style>\n",
       "<table border=\"1\" class=\"dataframe\">\n",
       "  <thead>\n",
       "    <tr style=\"text-align: right;\">\n",
       "      <th></th>\n",
       "      <th>ds</th>\n",
       "      <th>unique_id</th>\n",
       "      <th>NO2</th>\n",
       "      <th>PM10</th>\n",
       "      <th>SO2</th>\n",
       "      <th>C6H6</th>\n",
       "      <th>PM2.5</th>\n",
       "    </tr>\n",
       "  </thead>\n",
       "  <tbody>\n",
       "    <tr>\n",
       "      <th>0</th>\n",
       "      <td>2000-01-01</td>\n",
       "      <td>102</td>\n",
       "      <td>3.6</td>\n",
       "      <td>NaN</td>\n",
       "      <td>NaN</td>\n",
       "      <td>NaN</td>\n",
       "      <td>NaN</td>\n",
       "    </tr>\n",
       "    <tr>\n",
       "      <th>1</th>\n",
       "      <td>2000-01-02</td>\n",
       "      <td>102</td>\n",
       "      <td>4.9</td>\n",
       "      <td>NaN</td>\n",
       "      <td>NaN</td>\n",
       "      <td>NaN</td>\n",
       "      <td>NaN</td>\n",
       "    </tr>\n",
       "    <tr>\n",
       "      <th>2</th>\n",
       "      <td>2000-01-03</td>\n",
       "      <td>102</td>\n",
       "      <td>5.6</td>\n",
       "      <td>NaN</td>\n",
       "      <td>NaN</td>\n",
       "      <td>NaN</td>\n",
       "      <td>NaN</td>\n",
       "    </tr>\n",
       "    <tr>\n",
       "      <th>3</th>\n",
       "      <td>2000-01-04</td>\n",
       "      <td>102</td>\n",
       "      <td>5.3</td>\n",
       "      <td>NaN</td>\n",
       "      <td>NaN</td>\n",
       "      <td>NaN</td>\n",
       "      <td>NaN</td>\n",
       "    </tr>\n",
       "    <tr>\n",
       "      <th>4</th>\n",
       "      <td>2000-01-05</td>\n",
       "      <td>102</td>\n",
       "      <td>6.9</td>\n",
       "      <td>NaN</td>\n",
       "      <td>NaN</td>\n",
       "      <td>NaN</td>\n",
       "      <td>NaN</td>\n",
       "    </tr>\n",
       "  </tbody>\n",
       "</table>\n",
       "</div>"
      ],
      "text/plain": [
       "          ds  unique_id  NO2  PM10  SO2  C6H6  PM2.5\n",
       "0 2000-01-01        102  3.6   NaN  NaN   NaN    NaN\n",
       "1 2000-01-02        102  4.9   NaN  NaN   NaN    NaN\n",
       "2 2000-01-03        102  5.6   NaN  NaN   NaN    NaN\n",
       "3 2000-01-04        102  5.3   NaN  NaN   NaN    NaN\n",
       "4 2000-01-05        102  6.9   NaN  NaN   NaN    NaN"
      ]
     },
     "execution_count": 7,
     "metadata": {},
     "output_type": "execute_result"
    }
   ],
   "source": [
    "time_24h_df.head(5)"
   ]
  }
 ],
 "metadata": {
  "kernelspec": {
   "display_name": "ispies",
   "language": "python",
   "name": "python3"
  },
  "language_info": {
   "codemirror_mode": {
    "name": "ipython",
    "version": 3
   },
   "file_extension": ".py",
   "mimetype": "text/x-python",
   "name": "python",
   "nbconvert_exporter": "python",
   "pygments_lexer": "ipython3",
   "version": "3.11.11"
  }
 },
 "nbformat": 4,
 "nbformat_minor": 5
}
