{
 "cells": [
  {
   "cell_type": "code",
   "execution_count": null,
   "id": "ea20efff",
   "metadata": {},
   "outputs": [],
   "source": [
    "# CONFIG CELL\n",
    "from notebook_utils import set_root_directory\n",
    "\n",
    "set_root_directory()"
   ]
  },
  {
   "cell_type": "code",
   "execution_count": null,
   "id": "394a6566",
   "metadata": {},
   "outputs": [],
   "source": [
    "import geopandas as gpd\n",
    "import pandas as pd\n",
    "\n",
    "from app import constants\n",
    "from app.imputers import NearestSensorImputer, SupportedLastImputer\n",
    "from app.missing_values_percentage_filter import MissingValuesPercentageFilter"
   ]
  },
  {
   "cell_type": "code",
   "execution_count": null,
   "id": "9d7f5f6b",
   "metadata": {},
   "outputs": [],
   "source": [
    "ANALYZED_VARIABLE = constants.PM10\n",
    "\n",
    "SENSOR_METADATA = \"input_files/sensor_metadata.parquet\"\n",
    "MEASUREMENTS_24H = \"input_files/measurements_24h.parquet\"\n",
    "\n",
    "OUTPUT_FILE_NEAREST = f\"input_files/nearest_imputed_measurements_24h_{ANALYZED_VARIABLE}.parquet\"\n",
    "OUTPUT_FILE_LAST = f\"input_files/last_imputed_measurements_24h_{ANALYZED_VARIABLE}.parquet\"\n",
    "\n",
    "MIN_YEAR = 2017\n",
    "MAX_YEAR = 2023"
   ]
  },
  {
   "cell_type": "code",
   "execution_count": null,
   "id": "be623b0c",
   "metadata": {},
   "outputs": [],
   "source": [
    "sensor_metadata = pd.read_parquet(SENSOR_METADATA)\n",
    "raw_measurements = pd.read_parquet(MEASUREMENTS_24H)"
   ]
  },
  {
   "cell_type": "code",
   "execution_count": null,
   "id": "2a29c706",
   "metadata": {},
   "outputs": [],
   "source": [
    "measurements = raw_measurements[[constants.TIMESTAMP_COLUMN, constants.UNIQUE_ID, ANALYZED_VARIABLE]]\n",
    "measurements = measurements.query(\n",
    "    f\"{constants.TIMESTAMP_COLUMN}.dt.year >= {MIN_YEAR} and \"\n",
    "    f\"{constants.TIMESTAMP_COLUMN}.dt.year <= {MAX_YEAR}\"\n",
    ")\n",
    "measurements.shape"
   ]
  },
  {
   "cell_type": "code",
   "execution_count": null,
   "id": "fc746c4e",
   "metadata": {},
   "outputs": [],
   "source": [
    "valid_curves = MissingValuesPercentageFilter(threshold=0.05).fit_transform(measurements, ANALYZED_VARIABLE)\n",
    "\n",
    "filtered_measurements = measurements[\n",
    "    (measurements[constants.UNIQUE_ID].isin(valid_curves[constants.UNIQUE_ID].unique())) \n",
    "    & (measurements[constants.TIMESTAMP_COLUMN].dt.year.isin(valid_curves[constants.YEAR].unique()))\n",
    "]\n",
    "filtered_measurements.shape"
   ]
  },
  {
   "cell_type": "markdown",
   "id": "aaa0ac6f",
   "metadata": {},
   "source": [
    "## Imputacja na podstawie najbliższego sensora"
   ]
  },
  {
   "cell_type": "code",
   "execution_count": null,
   "id": "a4041350",
   "metadata": {},
   "outputs": [],
   "source": [
    "loc_sensor = sensor_metadata[[constants.SENSOR_ID, constants.LATITUDE, constants.LONGITUDE]]\n",
    "gdf_loc_sensor = gpd.GeoDataFrame(\n",
    "    loc_sensor,\n",
    "    geometry=gpd.points_from_xy(loc_sensor[constants.LONGITUDE], loc_sensor[constants.LATITUDE]),\n",
    "    crs=constants.GLOBAL_EPSG,\n",
    ")\n",
    "gdf_loc_sensor = gdf_loc_sensor.to_crs(constants.POLAND_EPSG)\n",
    "distance_matrix = gdf_loc_sensor.geometry.apply(\n",
    "    lambda x: gdf_loc_sensor.distance(x)\n",
    ").values.tolist()"
   ]
  },
  {
   "cell_type": "code",
   "execution_count": null,
   "id": "af4a61a9",
   "metadata": {},
   "outputs": [],
   "source": [
    "nearest_sensor_imputer = NearestSensorImputer(\n",
    "    distance_matrix=distance_matrix,\n",
    "    sensor_ids=gdf_loc_sensor[constants.SENSOR_ID].values.tolist()\n",
    ")\n",
    "nearest_sensor_imputed_measurements = nearest_sensor_imputer.fit_transform(\n",
    "    X=filtered_measurements\n",
    ")\n",
    "nearest_sensor_imputed_measurements.to_parquet(OUTPUT_FILE_NEAREST, index=False)"
   ]
  },
  {
   "cell_type": "markdown",
   "id": "c27b0930",
   "metadata": {},
   "source": [
    "## Imputacja brakujących wartości na podstawie ostatniej znanej wartośći z uwzględnieniem najbliższych sensorów"
   ]
  },
  {
   "cell_type": "code",
   "execution_count": null,
   "id": "5edd8088",
   "metadata": {},
   "outputs": [],
   "source": [
    "supported_last_imputer = SupportedLastImputer(\n",
    "    support_imputer=nearest_sensor_imputer\n",
    ")\n",
    "supported_last_imputed_measurements = supported_last_imputer.fit_transform(\n",
    "    X=filtered_measurements\n",
    ")\n",
    "supported_last_imputed_measurements.to_parquet(OUTPUT_FILE_LAST, index=False)"
   ]
  }
 ],
 "metadata": {
  "kernelspec": {
   "display_name": "Python 3",
   "language": "python",
   "name": "python3"
  },
  "language_info": {
   "codemirror_mode": {
    "name": "ipython",
    "version": 3
   },
   "file_extension": ".py",
   "mimetype": "text/x-python",
   "name": "python",
   "nbconvert_exporter": "python",
   "pygments_lexer": "ipython3",
   "version": "3.13.3"
  }
 },
 "nbformat": 4,
 "nbformat_minor": 5
}
