{
 "cells": [
  {
   "cell_type": "code",
   "execution_count": 1,
   "id": "ea20efff",
   "metadata": {},
   "outputs": [],
   "source": [
    "# CONFIG CELL\n",
    "from notebook_utils import set_root_directory\n",
    "\n",
    "set_root_directory()"
   ]
  },
  {
   "cell_type": "code",
   "execution_count": 2,
   "id": "394a6566",
   "metadata": {},
   "outputs": [],
   "source": [
    "import geopandas as gpd\n",
    "import numpy as np\n",
    "import pandas as pd\n",
    "\n",
    "from app import constants\n",
    "from app.imputers import NearestSensorImputer"
   ]
  },
  {
   "cell_type": "code",
   "execution_count": 3,
   "id": "9d7f5f6b",
   "metadata": {},
   "outputs": [],
   "source": [
    "ANALYZED_VARIABLE = constants.PM10\n",
    "\n",
    "SENSOR_METADATA = \"input_files/sensor_metadata.parquet\"\n",
    "MEASUREMENTS_24H = \"input_files/measurements_24h.parquet\"\n",
    "\n",
    "OUTPUT_FILE_NEAREST = f\"input_files/nearest_imputed_measurements_24h_{ANALYZED_VARIABLE}.parquet\"\n",
    "OUTPUT_FILE_LAST = f\"input_files/last_imputed_measurements_24h_{ANALYZED_VARIABLE}.parquet\"\n",
    "OUTPUT_FILE_COMBINED = f\"input_files/combined_imputed_measurements_24h_{ANALYZED_VARIABLE}.parquet\"\n",
    "\n",
    "MIN_YEAR = 2017\n",
    "MAX_YEAR = 2023"
   ]
  },
  {
   "cell_type": "code",
   "execution_count": 4,
   "id": "be623b0c",
   "metadata": {},
   "outputs": [],
   "source": [
    "sensor_metadata = pd.read_parquet(SENSOR_METADATA)\n",
    "raw_measurements = pd.read_parquet(MEASUREMENTS_24H)"
   ]
  },
  {
   "cell_type": "code",
   "execution_count": 5,
   "id": "2a29c706",
   "metadata": {},
   "outputs": [
    {
     "data": {
      "text/plain": [
       "(2267172, 3)"
      ]
     },
     "execution_count": 5,
     "metadata": {},
     "output_type": "execute_result"
    }
   ],
   "source": [
    "measurements = raw_measurements[[constants.TIMESTAMP_COLUMN, constants.UNIQUE_ID, ANALYZED_VARIABLE]]\n",
    "measurements = measurements.query(\n",
    "    f\"{constants.TIMESTAMP_COLUMN}.dt.year >= {MIN_YEAR} and \"\n",
    "    f\"{constants.TIMESTAMP_COLUMN}.dt.year <= {MAX_YEAR}\"\n",
    ")\n",
    "measurements.shape"
   ]
  },
  {
   "cell_type": "code",
   "execution_count": 6,
   "id": "a4041350",
   "metadata": {},
   "outputs": [
    {
     "name": "stderr",
     "output_type": "stream",
     "text": [
      "c:\\Users\\Mambo\\.conda\\envs\\ispies\\Lib\\site-packages\\shapely\\measurement.py:81: RuntimeWarning: invalid value encountered in distance\n",
      "  return lib.distance(a, b, **kwargs)\n"
     ]
    }
   ],
   "source": [
    "loc_sensor = sensor_metadata[[constants.SENSOR_ID, constants.LATITUDE, constants.LONGITUDE]]\n",
    "gdf_loc_sensor = gpd.GeoDataFrame(\n",
    "    loc_sensor,\n",
    "    geometry=gpd.points_from_xy(loc_sensor[constants.LONGITUDE], loc_sensor[constants.LATITUDE]),\n",
    "    crs=constants.GLOBAL_EPSG,\n",
    ")\n",
    "gdf_loc_sensor = gdf_loc_sensor.to_crs(constants.POLAND_EPSG)\n",
    "distance_matrix = gdf_loc_sensor.geometry.apply(\n",
    "    lambda x: gdf_loc_sensor.distance(x)\n",
    ").values.tolist()"
   ]
  },
  {
   "cell_type": "code",
   "execution_count": 7,
   "id": "af4a61a9",
   "metadata": {},
   "outputs": [
    {
     "name": "stdout",
     "output_type": "stream",
     "text": [
      "[########################################] | 100% Completed | 187.83 s\n"
     ]
    }
   ],
   "source": [
    "nearest_sensor_imputer = NearestSensorImputer(\n",
    "    distance_matrix=distance_matrix,\n",
    "    sensor_ids=gdf_loc_sensor[constants.SENSOR_ID].values.tolist()\n",
    ")\n",
    "nearest_sensor_imputed_measurements = nearest_sensor_imputer.fit_transform(\n",
    "    X=measurements\n",
    ")\n",
    "nearest_sensor_imputed_measurements.to_parquet(OUTPUT_FILE_NEAREST, index=False)"
   ]
  }
 ],
 "metadata": {
  "kernelspec": {
   "display_name": "Python 3",
   "language": "python",
   "name": "python3"
  },
  "language_info": {
   "codemirror_mode": {
    "name": "ipython",
    "version": 3
   },
   "file_extension": ".py",
   "mimetype": "text/x-python",
   "name": "python",
   "nbconvert_exporter": "python",
   "pygments_lexer": "ipython3",
   "version": "3.13.3"
  }
 },
 "nbformat": 4,
 "nbformat_minor": 5
}
