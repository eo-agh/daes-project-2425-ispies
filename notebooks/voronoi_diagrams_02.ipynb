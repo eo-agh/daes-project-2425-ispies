{
 "cells": [
  {
   "cell_type": "markdown",
   "id": "cccd7a1a",
   "metadata": {},
   "source": [
    "# Wniosek\n",
    "\n",
    "Na podstawie wykonanej analizy zasadnym wydaje się użycie danych od 2017 roku.\n",
    "\n",
    "Uwidacznia się problem ingestora - brak danych dla roku 2016."
   ]
  },
  {
   "cell_type": "code",
   "execution_count": 1,
   "id": "bff42b0d",
   "metadata": {},
   "outputs": [],
   "source": [
    "# CONFIG CELL\n",
    "from notebook_utils import set_root_directory\n",
    "\n",
    "set_root_directory()"
   ]
  },
  {
   "cell_type": "code",
   "execution_count": 2,
   "id": "5ca46f95",
   "metadata": {},
   "outputs": [],
   "source": [
    "from collections import defaultdict\n",
    "\n",
    "import geopandas as gpd\n",
    "from ipywidgets import interact, Dropdown, fixed, widgets\n",
    "\n",
    "from app import constants\n",
    "from app.plot_utils import plot_voronoi, plot_voronoi_area_boxplot, plot_voronoi_area_timeseries"
   ]
  },
  {
   "cell_type": "code",
   "execution_count": 3,
   "id": "7bfd44c8",
   "metadata": {},
   "outputs": [],
   "source": [
    "VORONOI_FILE = \"input_files/sensor_metadata_1h_with_voronoi.parquet\""
   ]
  },
  {
   "cell_type": "code",
   "execution_count": 4,
   "id": "56332f54",
   "metadata": {},
   "outputs": [],
   "source": [
    "df_voronoi = gpd.read_parquet(VORONOI_FILE)"
   ]
  },
  {
   "cell_type": "code",
   "execution_count": 5,
   "id": "5c28d83f",
   "metadata": {},
   "outputs": [],
   "source": [
    "voronoi_columns = list(filter(lambda col_name: col_name.endswith(constants.VORONOI_GEOMETRY), df_voronoi.columns))"
   ]
  },
  {
   "cell_type": "code",
   "execution_count": 6,
   "id": "2b654e05",
   "metadata": {},
   "outputs": [],
   "source": [
    "years_by_variable = defaultdict(list)\n",
    "\n",
    "for col in voronoi_columns:\n",
    "    var, year, _, _ = col.split(\"_\")\n",
    "    years_by_variable[var].append(year)"
   ]
  },
  {
   "cell_type": "code",
   "execution_count": 7,
   "id": "391f5c48",
   "metadata": {},
   "outputs": [
    {
     "data": {
      "application/vnd.jupyter.widget-view+json": {
       "model_id": "b5e5e1087fd74cb2b499e44e4ba74198",
       "version_major": 2,
       "version_minor": 0
      },
      "text/plain": [
       "interactive(children=(Dropdown(description='Zmienna:', options=('C6H6', 'CO', 'NO', 'NO2', 'NOx', 'O3', 'PM2.5…"
      ]
     },
     "metadata": {},
     "output_type": "display_data"
    },
    {
     "data": {
      "text/plain": [
       "<function __main__.interactive_plot(gdf: geopandas.geodataframe.GeoDataFrame, variable: str)>"
      ]
     },
     "execution_count": 7,
     "metadata": {},
     "output_type": "execute_result"
    }
   ],
   "source": [
    "def interactive_plot(gdf: gpd.GeoDataFrame, variable: str):\n",
    "    return interact(\n",
    "        plot_voronoi,\n",
    "        gdf=fixed(gdf),\n",
    "        variable=widgets.fixed(variable),\n",
    "        year=Dropdown(options=years_by_variable[variable], description=\"Rok:\")\n",
    "    )\n",
    "\n",
    "interact(interactive_plot, gdf=fixed(df_voronoi), variable=Dropdown(options=years_by_variable.keys(), description=\"Zmienna:\"))"
   ]
  },
  {
   "cell_type": "code",
   "execution_count": null,
   "id": "819ee91d",
   "metadata": {},
   "outputs": [
    {
     "data": {
      "application/vnd.jupyter.widget-view+json": {
       "model_id": "676b490d18354628b323125a6a2a5049",
       "version_major": 2,
       "version_minor": 0
      },
      "text/plain": [
       "interactive(children=(Dropdown(description='Zmienna:', options=('C6H6', 'CO', 'NO', 'NO2', 'NOx', 'O3', 'PM2.5…"
      ]
     },
     "metadata": {},
     "output_type": "display_data"
    },
    {
     "data": {
      "text/plain": [
       "<function app.plot_utils.plot_voronoi_area_boxplot(gdf: geopandas.geodataframe.GeoDataFrame, variable: str, min_year: int, max_year: int)>"
      ]
     },
     "execution_count": 8,
     "metadata": {},
     "output_type": "execute_result"
    }
   ],
   "source": [
    "interact(\n",
    "    plot_voronoi_area_boxplot,\n",
    "    gdf=fixed(df_voronoi),\n",
    "    variable=Dropdown(options=years_by_variable.keys(), description=\"Zmienna:\"),\n",
    "    min_year=fixed(2000),\n",
    "    max_year=fixed(2024),\n",
    ")"
   ]
  },
  {
   "cell_type": "code",
   "execution_count": null,
   "id": "a7d101b2",
   "metadata": {},
   "outputs": [
    {
     "data": {
      "application/vnd.jupyter.widget-view+json": {
       "model_id": "43350c64fecc47e08e0462968a896a35",
       "version_major": 2,
       "version_minor": 0
      },
      "text/plain": [
       "interactive(children=(Dropdown(description='Zmienna:', options=('C6H6', 'CO', 'NO', 'NO2', 'NOx', 'O3', 'PM2.5…"
      ]
     },
     "metadata": {},
     "output_type": "display_data"
    },
    {
     "data": {
      "text/plain": [
       "<function app.plot_utils.plot_voronoi_area_timeseries(gdf: geopandas.geodataframe.GeoDataFrame, variable: str, min_year: int, max_year: int)>"
      ]
     },
     "execution_count": 9,
     "metadata": {},
     "output_type": "execute_result"
    }
   ],
   "source": [
    "interact(\n",
    "    plot_voronoi_area_timeseries,\n",
    "    gdf=fixed(df_voronoi),\n",
    "    variable=Dropdown(options=years_by_variable.keys(), description=\"Zmienna:\"),\n",
    "    min_year=fixed(2000),\n",
    "    max_year=fixed(2024),\n",
    ")"
   ]
  }
 ],
 "metadata": {
  "kernelspec": {
   "display_name": "Python 3",
   "language": "python",
   "name": "python3"
  },
  "language_info": {
   "codemirror_mode": {
    "name": "ipython",
    "version": 3
   },
   "file_extension": ".py",
   "mimetype": "text/x-python",
   "name": "python",
   "nbconvert_exporter": "python",
   "pygments_lexer": "ipython3",
   "version": "3.13.3"
  }
 },
 "nbformat": 4,
 "nbformat_minor": 5
}
