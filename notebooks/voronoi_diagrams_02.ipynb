{
 "cells": [
  {
   "cell_type": "code",
   "execution_count": 1,
   "id": "bff42b0d",
   "metadata": {},
   "outputs": [],
   "source": [
    "# CONFIG CELL\n",
    "from notebook_utils import set_root_directory\n",
    "\n",
    "set_root_directory()"
   ]
  },
  {
   "cell_type": "code",
   "execution_count": 2,
   "id": "5ca46f95",
   "metadata": {},
   "outputs": [],
   "source": [
    "from collections import defaultdict\n",
    "\n",
    "import geopandas as gpd\n",
    "from ipywidgets import interact, Dropdown, fixed, widgets\n",
    "\n",
    "from app import constants\n",
    "from app.plot_utils import plot_voronoi, plot_voronoi_area_boxplot, plot_voronoi_area_timeseries"
   ]
  },
  {
   "cell_type": "code",
   "execution_count": 3,
   "id": "7bfd44c8",
   "metadata": {},
   "outputs": [],
   "source": [
    "VORONOI_FILE = \"input_files/sensor_metadata_24h_with_voronoi.parquet\""
   ]
  },
  {
   "cell_type": "code",
   "execution_count": 4,
   "id": "56332f54",
   "metadata": {},
   "outputs": [],
   "source": [
    "df_voronoi = gpd.read_parquet(VORONOI_FILE)"
   ]
  },
  {
   "cell_type": "code",
   "execution_count": 5,
   "id": "5c28d83f",
   "metadata": {},
   "outputs": [],
   "source": [
    "voronoi_columns = list(\n",
    "    filter(lambda col_name: col_name.endswith(constants.VORONOI_GEOMETRY), df_voronoi.columns)\n",
    ")"
   ]
  },
  {
   "cell_type": "code",
   "execution_count": 6,
   "id": "2b654e05",
   "metadata": {},
   "outputs": [],
   "source": [
    "years_by_variable = defaultdict(list)\n",
    "\n",
    "for col in voronoi_columns:\n",
    "    var, year, _, _ = col.split(\"_\")\n",
    "    years_by_variable[var].append(year)"
   ]
  },
  {
   "cell_type": "code",
   "execution_count": null,
   "id": "391f5c48",
   "metadata": {},
   "outputs": [
    {
     "data": {
      "application/vnd.jupyter.widget-view+json": {
       "model_id": "a23b4b38af2141c888d6cf8f52321689",
       "version_major": 2,
       "version_minor": 0
      },
      "text/plain": [
       "interactive(children=(Dropdown(description='Zmienna:', options=('C6H6', 'NO2', 'PM2.5', 'PM10', 'SO2'), value=…"
      ]
     },
     "metadata": {},
     "output_type": "display_data"
    },
    {
     "data": {
      "text/plain": [
       "<function __main__.interactive_plot(gdf: geopandas.geodataframe.GeoDataFrame, variable: str)>"
      ]
     },
     "execution_count": 7,
     "metadata": {},
     "output_type": "execute_result"
    }
   ],
   "source": [
    "def interactive_plot(gdf: gpd.GeoDataFrame, variable: str):\n",
    "    return interact(\n",
    "        plot_voronoi,\n",
    "        gdf=fixed(gdf),\n",
    "        variable=widgets.fixed(variable),\n",
    "        year=Dropdown(options=years_by_variable[variable], description=\"Rok:\"),\n",
    "    )\n",
    "\n",
    "\n",
    "interact(\n",
    "    interactive_plot,\n",
    "    gdf=fixed(df_voronoi),\n",
    "    variable=Dropdown(options=years_by_variable.keys(), description=\"Zmienna:\"),\n",
    ")"
   ]
  },
  {
   "cell_type": "markdown",
   "id": "a0466cd7",
   "metadata": {},
   "source": [
    "![mapa](img_1.png)"
   ]
  },
  {
   "cell_type": "code",
   "execution_count": 8,
   "id": "819ee91d",
   "metadata": {},
   "outputs": [
    {
     "data": {
      "application/vnd.jupyter.widget-view+json": {
       "model_id": "e27cf07ad4b24bcfbb52aa14e8ce584f",
       "version_major": 2,
       "version_minor": 0
      },
      "text/plain": [
       "interactive(children=(Dropdown(description='Zmienna:', options=('C6H6', 'NO2', 'PM2.5', 'PM10', 'SO2'), value=…"
      ]
     },
     "metadata": {},
     "output_type": "display_data"
    },
    {
     "data": {
      "text/plain": [
       "<function app.plot_utils.plot_voronoi_area_boxplot(gdf: geopandas.geodataframe.GeoDataFrame, variable: str, min_year: int, max_year: int)>"
      ]
     },
     "execution_count": 8,
     "metadata": {},
     "output_type": "execute_result"
    }
   ],
   "source": [
    "interact(\n",
    "    plot_voronoi_area_boxplot,\n",
    "    gdf=fixed(df_voronoi),\n",
    "    variable=Dropdown(options=years_by_variable.keys(), description=\"Zmienna:\"),\n",
    "    min_year=fixed(2000),\n",
    "    max_year=fixed(2024),\n",
    ")"
   ]
  },
  {
   "cell_type": "markdown",
   "id": "de69fb3c",
   "metadata": {},
   "source": [
    "![boxplot](img_2.png)"
   ]
  },
  {
   "cell_type": "code",
   "execution_count": null,
   "id": "a7d101b2",
   "metadata": {},
   "outputs": [
    {
     "data": {
      "application/vnd.jupyter.widget-view+json": {
       "model_id": "486fb2809a714bfaa12e400f75553abb",
       "version_major": 2,
       "version_minor": 0
      },
      "text/plain": [
       "interactive(children=(Dropdown(description='Zmienna:', options=('C6H6', 'NO2', 'PM2.5', 'PM10', 'SO2'), value=…"
      ]
     },
     "metadata": {},
     "output_type": "display_data"
    },
    {
     "data": {
      "text/plain": [
       "<function app.plot_utils.plot_voronoi_area_timeseries(gdf: geopandas.geodataframe.GeoDataFrame, variable: str, min_year: int, max_year: int)>"
      ]
     },
     "execution_count": 9,
     "metadata": {},
     "output_type": "execute_result"
    }
   ],
   "source": [
    "interact(\n",
    "    plot_voronoi_area_timeseries,\n",
    "    gdf=fixed(df_voronoi),\n",
    "    variable=Dropdown(options=years_by_variable.keys(), description=\"Zmienna:\"),\n",
    "    min_year=fixed(2000),\n",
    "    max_year=fixed(2024),\n",
    ")"
   ]
  },
  {
   "cell_type": "markdown",
   "id": "40644523",
   "metadata": {},
   "source": [
    "![wykres](img_3.png)"
   ]
  }
 ],
 "metadata": {
  "kernelspec": {
   "display_name": "ispies",
   "language": "python",
   "name": "python3"
  },
  "language_info": {
   "codemirror_mode": {
    "name": "ipython",
    "version": 3
   },
   "file_extension": ".py",
   "mimetype": "text/x-python",
   "name": "python",
   "nbconvert_exporter": "python",
   "pygments_lexer": "ipython3",
   "version": "3.12.0"
  }
 },
 "nbformat": 4,
 "nbformat_minor": 5
}
