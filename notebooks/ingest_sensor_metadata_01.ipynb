{
 "cells": [
  {
   "cell_type": "code",
   "execution_count": 1,
   "id": "c913267c",
   "metadata": {},
   "outputs": [],
   "source": [
    "# CONFIG CELL\n",
    "from notebook_utils import set_root_directory\n",
    "\n",
    "set_root_directory()"
   ]
  },
  {
   "cell_type": "code",
   "execution_count": 2,
   "id": "a2cb4e4d",
   "metadata": {},
   "outputs": [],
   "source": [
    "# IMPORTS\n",
    "from app.sensor_ingestor import SensorIngestor"
   ]
  },
  {
   "cell_type": "code",
   "execution_count": 3,
   "id": "cd39347b",
   "metadata": {},
   "outputs": [],
   "source": [
    "# CONSTANTS\n",
    "SENSOR_METADATA_FILE = \"data/Metadane oraz kody stacji i stanowisk pomiarowych.xlsx\"\n",
    "SENSOR_METADATA_RESULT = \"input_files/sensor_metadata.parquet\""
   ]
  },
  {
   "cell_type": "code",
   "execution_count": 6,
   "id": "3249c3ce",
   "metadata": {},
   "outputs": [],
   "source": [
    "# CODE\n",
    "ingestor = SensorIngestor(file_path=SENSOR_METADATA_FILE)\n",
    "ingested_sensor_metadata = ingestor.transform()\n",
    "ingested_sensor_metadata.to_parquet(SENSOR_METADATA_RESULT, index=False)"
   ]
  },
  {
   "cell_type": "code",
   "execution_count": 7,
   "id": "f79d2a16",
   "metadata": {},
   "outputs": [
    {
     "data": {
      "text/html": [
       "<div>\n",
       "<style scoped>\n",
       "    .dataframe tbody tr th:only-of-type {\n",
       "        vertical-align: middle;\n",
       "    }\n",
       "\n",
       "    .dataframe tbody tr th {\n",
       "        vertical-align: top;\n",
       "    }\n",
       "\n",
       "    .dataframe thead th {\n",
       "        text-align: right;\n",
       "    }\n",
       "</style>\n",
       "<table border=\"1\" class=\"dataframe\">\n",
       "  <thead>\n",
       "    <tr style=\"text-align: right;\">\n",
       "      <th></th>\n",
       "      <th>station_code</th>\n",
       "      <th>station_type</th>\n",
       "      <th>area_type</th>\n",
       "      <th>station_kind</th>\n",
       "      <th>latitude</th>\n",
       "      <th>longitude</th>\n",
       "      <th>province</th>\n",
       "      <th>city</th>\n",
       "      <th>sensor_id</th>\n",
       "      <th>old_station_code</th>\n",
       "    </tr>\n",
       "  </thead>\n",
       "  <tbody>\n",
       "    <tr>\n",
       "      <th>0</th>\n",
       "      <td>DsBialka</td>\n",
       "      <td>przemysłowa</td>\n",
       "      <td>podmiejski</td>\n",
       "      <td>kontenerowa stacjonarna</td>\n",
       "      <td>51.197783</td>\n",
       "      <td>16.117390</td>\n",
       "      <td>DOLNOŚLĄSKIE</td>\n",
       "      <td>Białka</td>\n",
       "      <td>1</td>\n",
       "      <td>{}</td>\n",
       "    </tr>\n",
       "    <tr>\n",
       "      <th>1</th>\n",
       "      <td>DsBielGrot</td>\n",
       "      <td>tło</td>\n",
       "      <td>miejski</td>\n",
       "      <td>w budynku</td>\n",
       "      <td>50.682510</td>\n",
       "      <td>16.617348</td>\n",
       "      <td>DOLNOŚLĄSKIE</td>\n",
       "      <td>Bielawa</td>\n",
       "      <td>2</td>\n",
       "      <td>{}</td>\n",
       "    </tr>\n",
       "    <tr>\n",
       "      <th>2</th>\n",
       "      <td>DsBogChop</td>\n",
       "      <td>przemysłowa</td>\n",
       "      <td>miejski</td>\n",
       "      <td>kontenerowa stacjonarna</td>\n",
       "      <td>50.905856</td>\n",
       "      <td>14.967175</td>\n",
       "      <td>DOLNOŚLĄSKIE</td>\n",
       "      <td>Bogatynia</td>\n",
       "      <td>4</td>\n",
       "      <td>{}</td>\n",
       "    </tr>\n",
       "    <tr>\n",
       "      <th>3</th>\n",
       "      <td>DsBogZatonieMob</td>\n",
       "      <td>przemysłowa</td>\n",
       "      <td>miejski</td>\n",
       "      <td>mobilna</td>\n",
       "      <td>50.943245</td>\n",
       "      <td>14.913327</td>\n",
       "      <td>DOLNOŚLĄSKIE</td>\n",
       "      <td>Bogatynia</td>\n",
       "      <td>5</td>\n",
       "      <td>{}</td>\n",
       "    </tr>\n",
       "    <tr>\n",
       "      <th>4</th>\n",
       "      <td>DsBogatFrancMOB</td>\n",
       "      <td>tło</td>\n",
       "      <td>miejski</td>\n",
       "      <td>mobilna</td>\n",
       "      <td>50.940998</td>\n",
       "      <td>14.916790</td>\n",
       "      <td>DOLNOŚLĄSKIE</td>\n",
       "      <td>Bogatynia</td>\n",
       "      <td>3</td>\n",
       "      <td>{DsBogatMob}</td>\n",
       "    </tr>\n",
       "  </tbody>\n",
       "</table>\n",
       "</div>"
      ],
      "text/plain": [
       "      station_code station_type   area_type             station_kind  \\\n",
       "0         DsBialka  przemysłowa  podmiejski  kontenerowa stacjonarna   \n",
       "1       DsBielGrot          tło     miejski                w budynku   \n",
       "2        DsBogChop  przemysłowa     miejski  kontenerowa stacjonarna   \n",
       "3  DsBogZatonieMob  przemysłowa     miejski                  mobilna   \n",
       "4  DsBogatFrancMOB          tło     miejski                  mobilna   \n",
       "\n",
       "    latitude  longitude      province       city  sensor_id old_station_code  \n",
       "0  51.197783  16.117390  DOLNOŚLĄSKIE     Białka          1               {}  \n",
       "1  50.682510  16.617348  DOLNOŚLĄSKIE    Bielawa          2               {}  \n",
       "2  50.905856  14.967175  DOLNOŚLĄSKIE  Bogatynia          4               {}  \n",
       "3  50.943245  14.913327  DOLNOŚLĄSKIE  Bogatynia          5               {}  \n",
       "4  50.940998  14.916790  DOLNOŚLĄSKIE  Bogatynia          3     {DsBogatMob}  "
      ]
     },
     "execution_count": 7,
     "metadata": {},
     "output_type": "execute_result"
    }
   ],
   "source": [
    "ingested_sensor_metadata.head(5)"
   ]
  },
  {
   "cell_type": "code",
   "execution_count": 8,
   "id": "d9cbfe62",
   "metadata": {},
   "outputs": [],
   "source": [
    "SENSOR_TO_INVESTIAGE = \"PkRzeszWIOSLang\""
   ]
  },
  {
   "cell_type": "code",
   "execution_count": 9,
   "id": "3cb2c2f3",
   "metadata": {},
   "outputs": [
    {
     "data": {
      "text/html": [
       "<div>\n",
       "<style scoped>\n",
       "    .dataframe tbody tr th:only-of-type {\n",
       "        vertical-align: middle;\n",
       "    }\n",
       "\n",
       "    .dataframe tbody tr th {\n",
       "        vertical-align: top;\n",
       "    }\n",
       "\n",
       "    .dataframe thead th {\n",
       "        text-align: right;\n",
       "    }\n",
       "</style>\n",
       "<table border=\"1\" class=\"dataframe\">\n",
       "  <thead>\n",
       "    <tr style=\"text-align: right;\">\n",
       "      <th></th>\n",
       "      <th>station_code</th>\n",
       "      <th>station_type</th>\n",
       "      <th>area_type</th>\n",
       "      <th>station_kind</th>\n",
       "      <th>latitude</th>\n",
       "      <th>longitude</th>\n",
       "      <th>province</th>\n",
       "      <th>city</th>\n",
       "      <th>sensor_id</th>\n",
       "      <th>old_station_code</th>\n",
       "    </tr>\n",
       "  </thead>\n",
       "  <tbody>\n",
       "  </tbody>\n",
       "</table>\n",
       "</div>"
      ],
      "text/plain": [
       "Empty DataFrame\n",
       "Columns: [station_code, station_type, area_type, station_kind, latitude, longitude, province, city, sensor_id, old_station_code]\n",
       "Index: []"
      ]
     },
     "execution_count": 9,
     "metadata": {},
     "output_type": "execute_result"
    }
   ],
   "source": [
    "ingested_sensor_metadata[\n",
    "    ingested_sensor_metadata[\"old_station_code\"].apply(lambda x: SENSOR_TO_INVESTIAGE in x)\n",
    "]"
   ]
  },
  {
   "cell_type": "code",
   "execution_count": 10,
   "id": "b63eb075",
   "metadata": {},
   "outputs": [
    {
     "data": {
      "text/html": [
       "<div>\n",
       "<style scoped>\n",
       "    .dataframe tbody tr th:only-of-type {\n",
       "        vertical-align: middle;\n",
       "    }\n",
       "\n",
       "    .dataframe tbody tr th {\n",
       "        vertical-align: top;\n",
       "    }\n",
       "\n",
       "    .dataframe thead th {\n",
       "        text-align: right;\n",
       "    }\n",
       "</style>\n",
       "<table border=\"1\" class=\"dataframe\">\n",
       "  <thead>\n",
       "    <tr style=\"text-align: right;\">\n",
       "      <th></th>\n",
       "      <th>station_code</th>\n",
       "      <th>station_type</th>\n",
       "      <th>area_type</th>\n",
       "      <th>station_kind</th>\n",
       "      <th>latitude</th>\n",
       "      <th>longitude</th>\n",
       "      <th>province</th>\n",
       "      <th>city</th>\n",
       "      <th>sensor_id</th>\n",
       "      <th>old_station_code</th>\n",
       "    </tr>\n",
       "  </thead>\n",
       "  <tbody>\n",
       "  </tbody>\n",
       "</table>\n",
       "</div>"
      ],
      "text/plain": [
       "Empty DataFrame\n",
       "Columns: [station_code, station_type, area_type, station_kind, latitude, longitude, province, city, sensor_id, old_station_code]\n",
       "Index: []"
      ]
     },
     "execution_count": 10,
     "metadata": {},
     "output_type": "execute_result"
    }
   ],
   "source": [
    "ingested_sensor_metadata.query(f\"station_code == '{SENSOR_TO_INVESTIAGE}'\")"
   ]
  }
 ],
 "metadata": {
  "kernelspec": {
   "display_name": "Python (ispies)",
   "language": "python",
   "name": "ispies"
  },
  "language_info": {
   "codemirror_mode": {
    "name": "ipython",
    "version": 3
   },
   "file_extension": ".py",
   "mimetype": "text/x-python",
   "name": "python",
   "nbconvert_exporter": "python",
   "pygments_lexer": "ipython3",
   "version": "3.11.11"
  }
 },
 "nbformat": 4,
 "nbformat_minor": 5
}
