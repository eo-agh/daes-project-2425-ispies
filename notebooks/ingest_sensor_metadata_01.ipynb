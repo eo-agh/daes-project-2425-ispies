{
 "cells": [
  {
   "cell_type": "code",
   "execution_count": 4,
   "id": "c913267c",
   "metadata": {},
   "outputs": [],
   "source": [
    "# CONFIG CELL\n",
    "from notebook_utils import set_root_directory\n",
    "\n",
    "set_root_directory()"
   ]
  },
  {
   "cell_type": "code",
   "execution_count": 5,
   "id": "a2cb4e4d",
   "metadata": {},
   "outputs": [],
   "source": [
    "# IMPORTS\n",
    "from app.ingestor import SensorIngestor"
   ]
  },
  {
   "cell_type": "code",
   "execution_count": 6,
   "id": "3249c3ce",
   "metadata": {},
   "outputs": [],
   "source": [
    "# CODE\n",
    "SENSOR_METADATA_FILE = \"data/Metadane oraz kody stacji i stanowisk pomiarowych.xlsx\"\n",
    "SENSOR_METADATA_RESULT = \"input_files/sensor_metadata.parquet\"\n",
    "\n",
    "\n",
    "ingestor = SensorIngestor(file_path=SENSOR_METADATA_FILE)\n",
    "ingested_sensort_metadata = ingestor.transform()\n",
    "ingested_sensort_metadata.to_parquet(SENSOR_METADATA_RESULT, index=False)"
   ]
  }
 ],
 "metadata": {
  "kernelspec": {
   "display_name": "ispies",
   "language": "python",
   "name": "python3"
  },
  "language_info": {
   "codemirror_mode": {
    "name": "ipython",
    "version": 3
   },
   "file_extension": ".py",
   "mimetype": "text/x-python",
   "name": "python",
   "nbconvert_exporter": "python",
   "pygments_lexer": "ipython3",
   "version": "3.11.11"
  }
 },
 "nbformat": 4,
 "nbformat_minor": 5
}
