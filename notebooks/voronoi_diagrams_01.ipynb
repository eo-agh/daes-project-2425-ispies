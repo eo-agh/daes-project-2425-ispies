{
 "cells": [
  {
   "cell_type": "code",
   "execution_count": null,
   "id": "1defcdd5",
   "metadata": {},
   "outputs": [],
   "source": [
    "# CONFIG CELL\n",
    "from notebook_utils import set_root_directory\n",
    "\n",
    "set_root_directory()"
   ]
  },
  {
   "cell_type": "code",
   "execution_count": null,
   "id": "dc7f49a8",
   "metadata": {},
   "outputs": [],
   "source": [
    "import geopandas as gpd\n",
    "import pandas as pd\n",
    "\n",
    "from app import constants\n",
    "from app.missing_values_percentage_filter import MissingValuesPercentageFilter\n",
    "from app.voronoi_transfomer import VoronoiTransformer"
   ]
  },
  {
   "cell_type": "code",
   "execution_count": null,
   "id": "98c71191",
   "metadata": {},
   "outputs": [],
   "source": [
    "SENSOR_METADATA = \"input_files/sensor_metadata.parquet\"\n",
    "MEASUREMENTS_24H = \"input_files/measurements_24h.parquet\"\n",
    "POLAND_POLYGON = \"polska.zip\"\n",
    "\n",
    "OUTPUT_FILE = \"input_files/sensor_metadata_24h_with_voronoi.parquet\""
   ]
  },
  {
   "cell_type": "code",
   "execution_count": null,
   "id": "be869bb5",
   "metadata": {},
   "outputs": [],
   "source": [
    "poland = gpd.read_file(POLAND_POLYGON)\n",
    "sensor_metadata = pd.read_parquet(SENSOR_METADATA)\n",
    "measurements = pd.read_parquet(MEASUREMENTS_24H)"
   ]
  },
  {
   "cell_type": "code",
   "execution_count": null,
   "id": "f118883b",
   "metadata": {},
   "outputs": [],
   "source": [
    "vt = VoronoiTransformer(\n",
    "    mask_polygon=poland,\n",
    "    buffer_size=constants.BUFFER_SIZE,\n",
    "    buffer_points_amount=constants.BUFFER_POINTS_AMOUNT,\n",
    ")"
   ]
  },
  {
   "cell_type": "code",
   "execution_count": null,
   "id": "c76d4838",
   "metadata": {},
   "outputs": [],
   "source": [
    "for variable in constants.TARGET_VARIABLES:\n",
    "    if variable not in measurements.columns:\n",
    "        print(f\"Variable {variable} not found in measurements. Skipping Voronoi transformation.\")\n",
    "        continue\n",
    "\n",
    "    mvpf = MissingValuesPercentageFilter(threshold=constants.MISSING_VALUES_THRESHOLD)\n",
    "    filtered_measurements = mvpf.fit_transform(X=measurements, variable=variable)\n",
    "\n",
    "    for year in range(2000, 2024):\n",
    "        unique_sensor_ids = filtered_measurements.query(f\"`{constants.YEAR}` == {year}\")[\n",
    "            constants.UNIQUE_ID\n",
    "        ].unique()\n",
    "\n",
    "        sensor_metadata_subset = sensor_metadata.query(\n",
    "            f\"`{constants.SENSOR_ID}` in {unique_sensor_ids.tolist()}\"\n",
    "        )\n",
    "\n",
    "        if sensor_metadata_subset.empty:\n",
    "            print(\n",
    "                f\"No sensor metadata found for year {year}, variable {variable}. Skipping Voronoi transformation.\"\n",
    "            )\n",
    "            continue\n",
    "\n",
    "        gdf_sensor_metadata = gpd.GeoDataFrame(\n",
    "            sensor_metadata_subset,\n",
    "            geometry=gpd.points_from_xy(\n",
    "                sensor_metadata_subset[constants.LONGITUDE],\n",
    "                sensor_metadata_subset[constants.LATITUDE],\n",
    "            ),\n",
    "            crs=constants.GLOBAL_EPSG,\n",
    "        )\n",
    "        gdf_sensor_metadata = gdf_sensor_metadata.to_crs(constants.POLAND_EPSG)\n",
    "        gdf_sensor_metadata = gdf_sensor_metadata.reset_index(drop=True)\n",
    "        try:\n",
    "            gdf_sensor_metadata[constants.VORONOI_GEOMETRY] = vt.fit_transform(\n",
    "                X=gdf_sensor_metadata\n",
    "            )\n",
    "        except Exception as e:\n",
    "            print(f\"Error during Voronoi transformation for year {year}, variable {variable}: {e}\")\n",
    "            continue\n",
    "\n",
    "        sensor_metadata = sensor_metadata.merge(\n",
    "            gdf_sensor_metadata[[constants.SENSOR_ID, constants.VORONOI_GEOMETRY]],\n",
    "            on=constants.SENSOR_ID,\n",
    "            how=\"left\",\n",
    "        )\n",
    "\n",
    "        sensor_metadata = sensor_metadata.rename(\n",
    "            columns={constants.VORONOI_GEOMETRY: f\"{variable}_{year}_{constants.VORONOI_GEOMETRY}\"}\n",
    "        )"
   ]
  },
  {
   "cell_type": "code",
   "execution_count": null,
   "id": "212d9af0",
   "metadata": {},
   "outputs": [],
   "source": [
    "sensor_metadata = gpd.GeoDataFrame(\n",
    "    sensor_metadata,\n",
    "    geometry=gpd.points_from_xy(\n",
    "        sensor_metadata[constants.LONGITUDE],\n",
    "        sensor_metadata[constants.LATITUDE],\n",
    "    ),\n",
    "    crs=constants.GLOBAL_EPSG,\n",
    ")\n",
    "sensor_metadata = sensor_metadata.to_crs(constants.POLAND_EPSG)\n",
    "sensor_metadata.to_parquet(f\"{OUTPUT_FILE}\")"
   ]
  }
 ],
 "metadata": {
  "kernelspec": {
   "display_name": "Python 3",
   "language": "python",
   "name": "python3"
  },
  "language_info": {
   "codemirror_mode": {
    "name": "ipython",
    "version": 3
   },
   "file_extension": ".py",
   "mimetype": "text/x-python",
   "name": "python",
   "nbconvert_exporter": "python",
   "pygments_lexer": "ipython3",
   "version": "3.13.3"
  }
 },
 "nbformat": 4,
 "nbformat_minor": 5
}
