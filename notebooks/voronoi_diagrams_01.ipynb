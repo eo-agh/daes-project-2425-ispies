{
 "cells": [
  {
   "cell_type": "code",
   "execution_count": 1,
   "id": "1defcdd5",
   "metadata": {},
   "outputs": [],
   "source": [
    "# CONFIG CELL\n",
    "from notebook_utils import set_root_directory\n",
    "\n",
    "set_root_directory()"
   ]
  },
  {
   "cell_type": "code",
   "execution_count": 2,
   "id": "dc7f49a8",
   "metadata": {},
   "outputs": [],
   "source": [
    "import geopandas as gpd\n",
    "import pandas as pd\n",
    "\n",
    "from app import constants\n",
    "from app.missing_values_percentage_filter import MissingValuesPercentageFilter\n",
    "from app.voronoi_transfomer import VoronoiTransformer"
   ]
  },
  {
   "cell_type": "code",
   "execution_count": 3,
   "id": "98c71191",
   "metadata": {},
   "outputs": [],
   "source": [
    "SENSOR_METADATA = \"input_files/sensor_metadata.parquet\"\n",
    "MEASUREMENTS_1H = \"input_files/measurements_1h.parquet\"\n",
    "POLAND_POLYGON = \"polska.zip\"\n",
    "\n",
    "OUTPUT_FILE = \"input_files/sensor_metadata_1h_with_voronoi.parquet\""
   ]
  },
  {
   "cell_type": "code",
   "execution_count": 4,
   "id": "be869bb5",
   "metadata": {},
   "outputs": [],
   "source": [
    "poland = gpd.read_file(POLAND_POLYGON)\n",
    "sensor_metadata = pd.read_parquet(SENSOR_METADATA)\n",
    "measurements = pd.read_parquet(MEASUREMENTS_1H)\n",
    "variable = constants.O3"
   ]
  },
  {
   "cell_type": "code",
   "execution_count": 5,
   "id": "f118883b",
   "metadata": {},
   "outputs": [],
   "source": [
    "vt = VoronoiTransformer(\n",
    "    mask_polygon=poland,\n",
    "    buffer_size=constants.BUFFER_SIZE,\n",
    "    buffer_points_amount=constants.BUFFER_POINTS_AMOUNT,\n",
    ")"
   ]
  },
  {
   "cell_type": "code",
   "execution_count": 6,
   "id": "c76d4838",
   "metadata": {},
   "outputs": [
    {
     "name": "stderr",
     "output_type": "stream",
     "text": [
      "c:\\Users\\Mambo\\Desktop\\moje_AGH\\staszel\\daes-project-2425-ispies\\app\\missing_values_percentage_filter.py:64: SettingWithCopyWarning: \n",
      "A value is trying to be set on a copy of a slice from a DataFrame.\n",
      "Try using .loc[row_indexer,col_indexer] = value instead\n",
      "\n",
      "See the caveats in the documentation: https://pandas.pydata.org/pandas-docs/stable/user_guide/indexing.html#returning-a-view-versus-a-copy\n",
      "  simple_X[constants.YEAR] = simple_X[constants.TIMESTAMP_COLUMN].dt.year\n"
     ]
    },
    {
     "name": "stdout",
     "output_type": "stream",
     "text": [
      "No sensor metadata found for year 2000, variable C6H6. Skipping Voronoi transformation.\n",
      "No sensor metadata found for year 2001, variable C6H6. Skipping Voronoi transformation.\n",
      "No sensor metadata found for year 2002, variable C6H6. Skipping Voronoi transformation.\n",
      "No sensor metadata found for year 2003, variable C6H6. Skipping Voronoi transformation.\n",
      "No sensor metadata found for year 2015, variable C6H6. Skipping Voronoi transformation.\n"
     ]
    },
    {
     "name": "stderr",
     "output_type": "stream",
     "text": [
      "c:\\Users\\Mambo\\Desktop\\moje_AGH\\staszel\\daes-project-2425-ispies\\app\\missing_values_percentage_filter.py:64: SettingWithCopyWarning: \n",
      "A value is trying to be set on a copy of a slice from a DataFrame.\n",
      "Try using .loc[row_indexer,col_indexer] = value instead\n",
      "\n",
      "See the caveats in the documentation: https://pandas.pydata.org/pandas-docs/stable/user_guide/indexing.html#returning-a-view-versus-a-copy\n",
      "  simple_X[constants.YEAR] = simple_X[constants.TIMESTAMP_COLUMN].dt.year\n"
     ]
    },
    {
     "name": "stdout",
     "output_type": "stream",
     "text": [
      "No sensor metadata found for year 2000, variable CO. Skipping Voronoi transformation.\n",
      "No sensor metadata found for year 2001, variable CO. Skipping Voronoi transformation.\n",
      "No sensor metadata found for year 2002, variable CO. Skipping Voronoi transformation.\n",
      "Error during Voronoi transformation for year 2003, variable CO: QH6019 qhull input error (qh_scalelast): can not scale last coordinate to [   0,  inf].  Input is cocircular or cospherical.   Use option 'Qz' to add a point at infinity.\n",
      "\n",
      "While executing:  | qhull v Qc Qz Qbb\n",
      "Options selected for Qhull 2019.1.r 2019/06/21:\n",
      "  run-id 1025940941  voronoi  Qcoplanar-keep  Qz-infinity-point  Qbbound-last\n",
      "  _pre-merge  _zero-centrum  Qinterior-keep  Pgood  _maxoutside  0\n",
      "\n",
      "No sensor metadata found for year 2015, variable CO. Skipping Voronoi transformation.\n"
     ]
    },
    {
     "name": "stderr",
     "output_type": "stream",
     "text": [
      "c:\\Users\\Mambo\\Desktop\\moje_AGH\\staszel\\daes-project-2425-ispies\\app\\missing_values_percentage_filter.py:64: SettingWithCopyWarning: \n",
      "A value is trying to be set on a copy of a slice from a DataFrame.\n",
      "Try using .loc[row_indexer,col_indexer] = value instead\n",
      "\n",
      "See the caveats in the documentation: https://pandas.pydata.org/pandas-docs/stable/user_guide/indexing.html#returning-a-view-versus-a-copy\n",
      "  simple_X[constants.YEAR] = simple_X[constants.TIMESTAMP_COLUMN].dt.year\n"
     ]
    },
    {
     "name": "stdout",
     "output_type": "stream",
     "text": [
      "No sensor metadata found for year 2000, variable NO. Skipping Voronoi transformation.\n",
      "No sensor metadata found for year 2001, variable NO. Skipping Voronoi transformation.\n",
      "No sensor metadata found for year 2002, variable NO. Skipping Voronoi transformation.\n",
      "No sensor metadata found for year 2003, variable NO. Skipping Voronoi transformation.\n",
      "No sensor metadata found for year 2004, variable NO. Skipping Voronoi transformation.\n",
      "No sensor metadata found for year 2005, variable NO. Skipping Voronoi transformation.\n",
      "No sensor metadata found for year 2006, variable NO. Skipping Voronoi transformation.\n",
      "No sensor metadata found for year 2007, variable NO. Skipping Voronoi transformation.\n",
      "No sensor metadata found for year 2008, variable NO. Skipping Voronoi transformation.\n",
      "No sensor metadata found for year 2009, variable NO. Skipping Voronoi transformation.\n",
      "No sensor metadata found for year 2010, variable NO. Skipping Voronoi transformation.\n",
      "No sensor metadata found for year 2011, variable NO. Skipping Voronoi transformation.\n",
      "No sensor metadata found for year 2012, variable NO. Skipping Voronoi transformation.\n",
      "No sensor metadata found for year 2013, variable NO. Skipping Voronoi transformation.\n",
      "No sensor metadata found for year 2014, variable NO. Skipping Voronoi transformation.\n",
      "No sensor metadata found for year 2015, variable NO. Skipping Voronoi transformation.\n",
      "No sensor metadata found for year 2016, variable NO. Skipping Voronoi transformation.\n",
      "No sensor metadata found for year 2017, variable NO. Skipping Voronoi transformation.\n",
      "No sensor metadata found for year 2018, variable NO. Skipping Voronoi transformation.\n"
     ]
    },
    {
     "name": "stderr",
     "output_type": "stream",
     "text": [
      "c:\\Users\\Mambo\\Desktop\\moje_AGH\\staszel\\daes-project-2425-ispies\\app\\missing_values_percentage_filter.py:64: SettingWithCopyWarning: \n",
      "A value is trying to be set on a copy of a slice from a DataFrame.\n",
      "Try using .loc[row_indexer,col_indexer] = value instead\n",
      "\n",
      "See the caveats in the documentation: https://pandas.pydata.org/pandas-docs/stable/user_guide/indexing.html#returning-a-view-versus-a-copy\n",
      "  simple_X[constants.YEAR] = simple_X[constants.TIMESTAMP_COLUMN].dt.year\n"
     ]
    },
    {
     "name": "stdout",
     "output_type": "stream",
     "text": [
      "No sensor metadata found for year 2015, variable NO2. Skipping Voronoi transformation.\n"
     ]
    },
    {
     "name": "stderr",
     "output_type": "stream",
     "text": [
      "c:\\Users\\Mambo\\Desktop\\moje_AGH\\staszel\\daes-project-2425-ispies\\app\\missing_values_percentage_filter.py:64: SettingWithCopyWarning: \n",
      "A value is trying to be set on a copy of a slice from a DataFrame.\n",
      "Try using .loc[row_indexer,col_indexer] = value instead\n",
      "\n",
      "See the caveats in the documentation: https://pandas.pydata.org/pandas-docs/stable/user_guide/indexing.html#returning-a-view-versus-a-copy\n",
      "  simple_X[constants.YEAR] = simple_X[constants.TIMESTAMP_COLUMN].dt.year\n"
     ]
    },
    {
     "name": "stdout",
     "output_type": "stream",
     "text": [
      "No sensor metadata found for year 2015, variable NOx. Skipping Voronoi transformation.\n"
     ]
    },
    {
     "name": "stderr",
     "output_type": "stream",
     "text": [
      "c:\\Users\\Mambo\\Desktop\\moje_AGH\\staszel\\daes-project-2425-ispies\\app\\missing_values_percentage_filter.py:64: SettingWithCopyWarning: \n",
      "A value is trying to be set on a copy of a slice from a DataFrame.\n",
      "Try using .loc[row_indexer,col_indexer] = value instead\n",
      "\n",
      "See the caveats in the documentation: https://pandas.pydata.org/pandas-docs/stable/user_guide/indexing.html#returning-a-view-versus-a-copy\n",
      "  simple_X[constants.YEAR] = simple_X[constants.TIMESTAMP_COLUMN].dt.year\n"
     ]
    },
    {
     "name": "stdout",
     "output_type": "stream",
     "text": [
      "Error during Voronoi transformation for year 2003, variable O3: QH6019 qhull input error (qh_scalelast): can not scale last coordinate to [   0,  inf].  Input is cocircular or cospherical.   Use option 'Qz' to add a point at infinity.\n",
      "\n",
      "While executing:  | qhull v Qc Qz Qbb\n",
      "Options selected for Qhull 2019.1.r 2019/06/21:\n",
      "  run-id 1026814905  voronoi  Qcoplanar-keep  Qz-infinity-point  Qbbound-last\n",
      "  _pre-merge  _zero-centrum  Qinterior-keep  Pgood  _maxoutside  0\n",
      "\n",
      "No sensor metadata found for year 2015, variable O3. Skipping Voronoi transformation.\n"
     ]
    },
    {
     "name": "stderr",
     "output_type": "stream",
     "text": [
      "c:\\Users\\Mambo\\Desktop\\moje_AGH\\staszel\\daes-project-2425-ispies\\app\\missing_values_percentage_filter.py:64: SettingWithCopyWarning: \n",
      "A value is trying to be set on a copy of a slice from a DataFrame.\n",
      "Try using .loc[row_indexer,col_indexer] = value instead\n",
      "\n",
      "See the caveats in the documentation: https://pandas.pydata.org/pandas-docs/stable/user_guide/indexing.html#returning-a-view-versus-a-copy\n",
      "  simple_X[constants.YEAR] = simple_X[constants.TIMESTAMP_COLUMN].dt.year\n"
     ]
    },
    {
     "name": "stdout",
     "output_type": "stream",
     "text": [
      "No sensor metadata found for year 2000, variable PM2.5. Skipping Voronoi transformation.\n",
      "No sensor metadata found for year 2001, variable PM2.5. Skipping Voronoi transformation.\n",
      "No sensor metadata found for year 2002, variable PM2.5. Skipping Voronoi transformation.\n",
      "No sensor metadata found for year 2003, variable PM2.5. Skipping Voronoi transformation.\n",
      "No sensor metadata found for year 2004, variable PM2.5. Skipping Voronoi transformation.\n",
      "No sensor metadata found for year 2005, variable PM2.5. Skipping Voronoi transformation.\n",
      "No sensor metadata found for year 2006, variable PM2.5. Skipping Voronoi transformation.\n",
      "No sensor metadata found for year 2007, variable PM2.5. Skipping Voronoi transformation.\n",
      "No sensor metadata found for year 2008, variable PM2.5. Skipping Voronoi transformation.\n",
      "No sensor metadata found for year 2009, variable PM2.5. Skipping Voronoi transformation.\n",
      "No sensor metadata found for year 2010, variable PM2.5. Skipping Voronoi transformation.\n",
      "No sensor metadata found for year 2011, variable PM2.5. Skipping Voronoi transformation.\n",
      "No sensor metadata found for year 2012, variable PM2.5. Skipping Voronoi transformation.\n",
      "No sensor metadata found for year 2013, variable PM2.5. Skipping Voronoi transformation.\n",
      "No sensor metadata found for year 2014, variable PM2.5. Skipping Voronoi transformation.\n",
      "No sensor metadata found for year 2015, variable PM2.5. Skipping Voronoi transformation.\n",
      "No sensor metadata found for year 2016, variable PM2.5. Skipping Voronoi transformation.\n"
     ]
    },
    {
     "name": "stderr",
     "output_type": "stream",
     "text": [
      "c:\\Users\\Mambo\\Desktop\\moje_AGH\\staszel\\daes-project-2425-ispies\\app\\missing_values_percentage_filter.py:64: SettingWithCopyWarning: \n",
      "A value is trying to be set on a copy of a slice from a DataFrame.\n",
      "Try using .loc[row_indexer,col_indexer] = value instead\n",
      "\n",
      "See the caveats in the documentation: https://pandas.pydata.org/pandas-docs/stable/user_guide/indexing.html#returning-a-view-versus-a-copy\n",
      "  simple_X[constants.YEAR] = simple_X[constants.TIMESTAMP_COLUMN].dt.year\n"
     ]
    },
    {
     "name": "stdout",
     "output_type": "stream",
     "text": [
      "No sensor metadata found for year 2000, variable PM10. Skipping Voronoi transformation.\n",
      "No sensor metadata found for year 2001, variable PM10. Skipping Voronoi transformation.\n",
      "No sensor metadata found for year 2002, variable PM10. Skipping Voronoi transformation.\n",
      "Error during Voronoi transformation for year 2003, variable PM10: QH6019 qhull input error (qh_scalelast): can not scale last coordinate to [   0,  inf].  Input is cocircular or cospherical.   Use option 'Qz' to add a point at infinity.\n",
      "\n",
      "While executing:  | qhull v Qc Qz Qbb\n",
      "Options selected for Qhull 2019.1.r 2019/06/21:\n",
      "  run-id 1027167852  voronoi  Qcoplanar-keep  Qz-infinity-point  Qbbound-last\n",
      "  _pre-merge  _zero-centrum  Qinterior-keep  Pgood  _maxoutside  0\n",
      "\n",
      "No sensor metadata found for year 2015, variable PM10. Skipping Voronoi transformation.\n"
     ]
    },
    {
     "name": "stderr",
     "output_type": "stream",
     "text": [
      "c:\\Users\\Mambo\\Desktop\\moje_AGH\\staszel\\daes-project-2425-ispies\\app\\missing_values_percentage_filter.py:64: SettingWithCopyWarning: \n",
      "A value is trying to be set on a copy of a slice from a DataFrame.\n",
      "Try using .loc[row_indexer,col_indexer] = value instead\n",
      "\n",
      "See the caveats in the documentation: https://pandas.pydata.org/pandas-docs/stable/user_guide/indexing.html#returning-a-view-versus-a-copy\n",
      "  simple_X[constants.YEAR] = simple_X[constants.TIMESTAMP_COLUMN].dt.year\n"
     ]
    },
    {
     "name": "stdout",
     "output_type": "stream",
     "text": [
      "No sensor metadata found for year 2000, variable SO2. Skipping Voronoi transformation.\n",
      "Error during Voronoi transformation for year 2003, variable SO2: QH6019 qhull input error (qh_scalelast): can not scale last coordinate to [   0,  inf].  Input is cocircular or cospherical.   Use option 'Qz' to add a point at infinity.\n",
      "\n",
      "While executing:  | qhull v Qc Qz Qbb\n",
      "Options selected for Qhull 2019.1.r 2019/06/21:\n",
      "  run-id 1027403150  voronoi  Qcoplanar-keep  Qz-infinity-point  Qbbound-last\n",
      "  _pre-merge  _zero-centrum  Qinterior-keep  Pgood  _maxoutside  0\n",
      "\n",
      "No sensor metadata found for year 2015, variable SO2. Skipping Voronoi transformation.\n"
     ]
    }
   ],
   "source": [
    "for variable in constants.TARGET_VARIABLES:\n",
    "    mvpf = MissingValuesPercentageFilter(threshold=constants.MISSING_VALUES_THRESHOLD)\n",
    "    filtered_measurements = mvpf.fit_transform(X=measurements, variable=variable)\n",
    "\n",
    "    for year in range(2000, 2024):\n",
    "        unique_sensor_ids = filtered_measurements.query(f\"`{constants.YEAR}` == {year}\")[\n",
    "            constants.UNIQUE_ID\n",
    "        ].unique()\n",
    "\n",
    "        sensor_metadata_subset = sensor_metadata.query(\n",
    "            f\"`{constants.SENSOR_ID}` in {unique_sensor_ids.tolist()}\"\n",
    "        )\n",
    "\n",
    "        if sensor_metadata_subset.empty:\n",
    "            print(\n",
    "                f\"No sensor metadata found for year {year}, variable {variable}. Skipping Voronoi transformation.\"\n",
    "            )\n",
    "            continue\n",
    "\n",
    "        gdf_sensor_metadata = gpd.GeoDataFrame(\n",
    "            sensor_metadata_subset,\n",
    "            geometry=gpd.points_from_xy(\n",
    "                sensor_metadata_subset[constants.LONGITUDE],\n",
    "                sensor_metadata_subset[constants.LATITUDE],\n",
    "            ),\n",
    "            crs=constants.GLOBAL_EPSG,\n",
    "        )\n",
    "        gdf_sensor_metadata = gdf_sensor_metadata.to_crs(constants.POLAND_EPSG)\n",
    "        gdf_sensor_metadata = gdf_sensor_metadata.reset_index(drop=True)\n",
    "        try:\n",
    "            gdf_sensor_metadata[constants.VORONOI_GEOMETRY] = vt.fit_transform(\n",
    "                X=gdf_sensor_metadata\n",
    "            )\n",
    "        except Exception as e:\n",
    "            print(f\"Error during Voronoi transformation for year {year}, variable {variable}: {e}\")\n",
    "            continue\n",
    "\n",
    "        sensor_metadata = sensor_metadata.merge(\n",
    "            gdf_sensor_metadata[[constants.SENSOR_ID, constants.VORONOI_GEOMETRY]],\n",
    "            on=constants.SENSOR_ID,\n",
    "            how=\"left\",\n",
    "        )\n",
    "\n",
    "        sensor_metadata = sensor_metadata.rename(\n",
    "            columns={constants.VORONOI_GEOMETRY: f\"{variable}_{year}_{constants.VORONOI_GEOMETRY}\"}\n",
    "        )"
   ]
  },
  {
   "cell_type": "code",
   "execution_count": 7,
   "id": "212d9af0",
   "metadata": {},
   "outputs": [],
   "source": [
    "sensor_metadata = gpd.GeoDataFrame(\n",
    "    sensor_metadata,\n",
    "    geometry=gpd.points_from_xy(\n",
    "        sensor_metadata[constants.LONGITUDE],\n",
    "        sensor_metadata[constants.LATITUDE],\n",
    "    ),\n",
    "    crs=constants.GLOBAL_EPSG,\n",
    ")\n",
    "sensor_metadata = sensor_metadata.to_crs(constants.POLAND_EPSG)\n",
    "sensor_metadata.to_parquet(f\"{OUTPUT_FILE}\")"
   ]
  }
 ],
 "metadata": {
  "kernelspec": {
   "display_name": "Python 3",
   "language": "python",
   "name": "python3"
  },
  "language_info": {
   "codemirror_mode": {
    "name": "ipython",
    "version": 3
   },
   "file_extension": ".py",
   "mimetype": "text/x-python",
   "name": "python",
   "nbconvert_exporter": "python",
   "pygments_lexer": "ipython3",
   "version": "3.13.3"
  }
 },
 "nbformat": 4,
 "nbformat_minor": 5
}
